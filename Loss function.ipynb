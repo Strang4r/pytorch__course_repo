{
 "cells": [
  {
   "cell_type": "code",
   "execution_count": 1,
   "id": "cacc6929",
   "metadata": {},
   "outputs": [],
   "source": [
    "import torch\n",
    "import torch.nn as nn"
   ]
  },
  {
   "cell_type": "code",
   "execution_count": null,
   "id": "370287d0",
   "metadata": {
    "is_executing": true
   },
   "outputs": [],
   "source": [
    "prediction= torch.randn(4,5)\n",
    "prediction"
   ]
  },
  {
   "cell_type": "code",
   "execution_count": 11,
   "id": "f6aa0cef",
   "metadata": {},
   "outputs": [
    {
     "data": {
      "text/plain": [
       "tensor([[-0.5610,  1.2852, -1.0073,  0.1685, -1.9928],\n",
       "        [ 0.2057,  0.2684, -1.0869,  1.1856,  1.2634],\n",
       "        [ 0.4809, -0.7465,  0.6741, -0.9712,  0.4907],\n",
       "        [ 0.3819,  1.5167,  2.6458, -1.0892, -0.3596]])"
      ]
     },
     "execution_count": 11,
     "metadata": {},
     "output_type": "execute_result"
    }
   ],
   "source": [
    "label = torch.randn(4,5)\n",
    "label"
   ]
  },
  {
   "cell_type": "code",
   "execution_count": 12,
   "id": "f4341722",
   "metadata": {},
   "outputs": [
    {
     "data": {
      "text/plain": [
       "MSELoss()"
      ]
     },
     "execution_count": 12,
     "metadata": {},
     "output_type": "execute_result"
    }
   ],
   "source": [
    "mse= nn.MSELoss(reduction='none') # none doestn do any reduction\n",
    "mse"
   ]
  },
  {
   "cell_type": "code",
   "execution_count": 9,
   "id": "009d2120",
   "metadata": {},
   "outputs": [
    {
     "name": "stdout",
     "output_type": "stream",
     "text": [
      "tensor([[2.5735e+00, 4.1438e+00, 6.2454e+00, 5.0853e-01, 1.7167e-01],\n",
      "        [2.6358e-01, 2.0091e+00, 9.1742e-01, 4.1105e-01, 2.4862e-01],\n",
      "        [3.2571e+00, 4.1572e-01, 1.5332e+00, 1.1066e-02, 1.2666e+01],\n",
      "        [3.9428e+00, 2.7889e-04, 3.3208e+00, 2.9862e-03, 1.9605e+00]])\n"
     ]
    }
   ],
   "source": [
    "loss=mse(prediction,label)\n",
    "print(loss)"
   ]
  },
  {
   "cell_type": "code",
   "execution_count": 13,
   "id": "d02a3363",
   "metadata": {},
   "outputs": [
    {
     "data": {
      "text/plain": [
       "MSELoss()"
      ]
     },
     "execution_count": 13,
     "metadata": {},
     "output_type": "execute_result"
    }
   ],
   "source": [
    "mse= nn.MSELoss(reduction='mean') # mean -- is a mean of all tensor\n",
    "mse"
   ]
  },
  {
   "cell_type": "code",
   "execution_count": 14,
   "id": "5d5f993f",
   "metadata": {},
   "outputs": [
    {
     "name": "stdout",
     "output_type": "stream",
     "text": [
      "tensor(3.2526)\n"
     ]
    }
   ],
   "source": [
    "loss=mse(prediction,label)\n",
    "print(loss)"
   ]
  },
  {
   "cell_type": "code",
   "execution_count": 15,
   "id": "231622c2",
   "metadata": {},
   "outputs": [
    {
     "name": "stdout",
     "output_type": "stream",
     "text": [
      "tensor(3.2526)\n"
     ]
    }
   ],
   "source": [
    "mse= nn.MSELoss(reduction='mean') # sum -- summ all in tensor\n",
    "loss=mse(prediction,label)\n",
    "print(loss)"
   ]
  },
  {
   "cell_type": "code",
   "execution_count": 17,
   "id": "6e41e642",
   "metadata": {},
   "outputs": [
    {
     "data": {
      "text/plain": [
       "tensor(3.2526)"
      ]
     },
     "execution_count": 17,
     "metadata": {},
     "output_type": "execute_result"
    }
   ],
   "source": [
    "((prediction-label)**2).mean()"
   ]
  },
  {
   "cell_type": "code",
   "execution_count": 18,
   "id": "211acbba",
   "metadata": {},
   "outputs": [
    {
     "data": {
      "text/plain": [
       "tensor([[0., 0., 0., 1., 1.],\n",
       "        [1., 1., 1., 0., 1.],\n",
       "        [1., 1., 0., 0., 1.],\n",
       "        [0., 0., 1., 1., 1.]])"
      ]
     },
     "execution_count": 18,
     "metadata": {},
     "output_type": "execute_result"
    }
   ],
   "source": [
    "label = torch.zeros(4,5).random_(0,2)\n",
    "label"
   ]
  },
  {
   "cell_type": "code",
   "execution_count": 19,
   "id": "8063155f",
   "metadata": {},
   "outputs": [
    {
     "data": {
      "text/plain": [
       "tensor(0.8512)"
      ]
     },
     "execution_count": 19,
     "metadata": {},
     "output_type": "execute_result"
    }
   ],
   "source": [
    "sigmoid = nn.Sigmoid()\n",
    "bce=nn.BCELoss(reduction='mean')\n",
    "bce(sigmoid(prediction),label)"
   ]
  },
  {
   "cell_type": "code",
   "execution_count": 20,
   "id": "032ee044",
   "metadata": {},
   "outputs": [],
   "source": [
    "bces=bce=nn.BCEWithLogitsLoss(reduction='mean')"
   ]
  },
  {
   "cell_type": "code",
   "execution_count": 21,
   "id": "211a5c4f",
   "metadata": {},
   "outputs": [
    {
     "data": {
      "text/plain": [
       "tensor(0.8512)"
      ]
     },
     "execution_count": 21,
     "metadata": {},
     "output_type": "execute_result"
    }
   ],
   "source": [
    "bce(prediction,label)"
   ]
  },
  {
   "cell_type": "code",
   "execution_count": 41,
   "id": "11615f59",
   "metadata": {},
   "outputs": [],
   "source": [
    "import numpy as np\n",
    "x=prediction.numpy()\n",
    "y=label.numpy()\n"
   ]
  },
  {
   "cell_type": "code",
   "execution_count": 23,
   "id": "4f9365f3",
   "metadata": {},
   "outputs": [
    {
     "ename": "SyntaxError",
     "evalue": "incomplete input (2743265576.py, line 4)",
     "output_type": "error",
     "traceback": [
      "\u001B[1;36m  Cell \u001B[1;32mIn[23], line 4\u001B[1;36m\u001B[0m\n\u001B[1;33m    if y[i][j]== 1:\u001B[0m\n\u001B[1;37m                   ^\u001B[0m\n\u001B[1;31mSyntaxError\u001B[0m\u001B[1;31m:\u001B[0m incomplete input\n"
     ]
    }
   ],
   "source": [
    "loss_values=[]\n",
    "for i in range(len(label(y))):\n",
    "    batch_loss=[]\n",
    "    for j in range(len(y[0])):\n",
    "        if y[i][j]== 1:\n",
    "            loss= -np.log(x[i][j])\n",
    "        else:\n",
    "            loss= -np.log(1-x[i][j])\n",
    "            \n",
    "        batch_loss.append(loss)\n",
    "    loss_values.append(batch_loss)"
   ]
  },
  {
   "cell_type": "code",
   "execution_count": null,
   "id": "49bb146a",
   "metadata": {},
   "outputs": [],
   "source": []
  },
  {
   "cell_type": "code",
   "execution_count": 33,
   "id": "65b2efa0",
   "metadata": {},
   "outputs": [],
   "source": [
    "def sigmoid(x):\n",
    "    return 1/(1+ np.exp(-x))"
   ]
  },
  {
   "cell_type": "code",
   "execution_count": 42,
   "id": "604c16d1",
   "metadata": {},
   "outputs": [
    {
     "name": "stdout",
     "output_type": "stream",
     "text": [
      "0.8512226068344585\n"
     ]
    }
   ],
   "source": [
    "#optimized\n",
    "x= sigmoid(x)\n",
    "loss_values=[]\n",
    "for i in range(len(y)):\n",
    "    batch_loss=[]\n",
    "    for j in range(len(y[0])):\n",
    "        batch_loss.append(-np.log(x[i][j]) if y[i][j]== 1 else -np.log(1-x[i][j]))\n",
    "\n",
    "    loss_values.append(batch_loss)\n",
    "print(np.mean(loss_values))"
   ]
  },
  {
   "cell_type": "code",
   "execution_count": null,
   "outputs": [],
   "source": [],
   "metadata": {
    "collapsed": false
   }
  },
  {
   "cell_type": "code",
   "execution_count": null,
   "id": "88384658",
   "metadata": {},
   "outputs": [],
   "source": [
    "# if we encounter nan value that means we forgot to do sigmoid activation func"
   ]
  }
 ],
 "metadata": {
  "kernelspec": {
   "display_name": "Python 3 (ipykernel)",
   "language": "python",
   "name": "python3"
  },
  "language_info": {
   "codemirror_mode": {
    "name": "ipython",
    "version": 3
   },
   "file_extension": ".py",
   "mimetype": "text/x-python",
   "name": "python",
   "nbconvert_exporter": "python",
   "pygments_lexer": "ipython3",
   "version": "3.10.9"
  }
 },
 "nbformat": 4,
 "nbformat_minor": 5
}
