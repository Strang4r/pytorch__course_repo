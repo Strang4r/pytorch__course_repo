{
 "cells": [
  {
   "cell_type": "code",
   "execution_count": 2,
   "id": "fe4af31b",
   "metadata": {},
   "outputs": [],
   "source": [
    "import torch\n",
    "import torch.nn.functional as F"
   ]
  },
  {
   "cell_type": "code",
   "execution_count": 3,
   "id": "dbd827bb",
   "metadata": {},
   "outputs": [],
   "source": [
    "predictions= torch.log(torch.rand(3))"
   ]
  },
  {
   "cell_type": "code",
   "execution_count": 5,
   "id": "a5e408d4",
   "metadata": {},
   "outputs": [
    {
     "data": {
      "text/plain": [
       "tensor([-1.3188, -3.6103, -0.0423])"
      ]
     },
     "execution_count": 5,
     "metadata": {},
     "output_type": "execute_result"
    }
   ],
   "source": [
    "predictions"
   ]
  },
  {
   "cell_type": "code",
   "execution_count": 8,
   "id": "fe25bb89",
   "metadata": {},
   "outputs": [
    {
     "name": "stdout",
     "output_type": "stream",
     "text": [
      "tensor([0.2134, 0.0216, 0.7650])\n",
      "tensor([7.2178e-02, 7.3792e-04, 9.2708e-01])\n",
      "tensor([2.8604e-06, 3.1948e-16, 1.0000e+00])\n"
     ]
    }
   ],
   "source": [
    "print(F.softmax(predictions,dim=-1))\n",
    "print(F.softmax(predictions/0.5,dim=-1))\n",
    "print(F.softmax(predictions/0.1,dim=-1))"
   ]
  },
  {
   "cell_type": "code",
   "execution_count": 7,
   "id": "688a8af1",
   "metadata": {},
   "outputs": [
    {
     "name": "stdout",
     "output_type": "stream",
     "text": [
      "tensor([0.2134, 0.0216, 0.7650])\n",
      "tensor([0.3421, 0.2163, 0.4416])\n",
      "tensor([0.3344, 0.3269, 0.3387])\n"
     ]
    }
   ],
   "source": [
    "print(F.softmax(predictions,dim=-1))\n",
    "print(F.softmax(predictions/5,dim=-1))\n",
    "print(F.softmax(predictions/100,dim=-1))"
   ]
  },
  {
   "cell_type": "code",
   "execution_count": null,
   "id": "03ceb51f",
   "metadata": {},
   "outputs": [],
   "source": []
  }
 ],
 "metadata": {
  "kernelspec": {
   "display_name": "Python 3 (ipykernel)",
   "language": "python",
   "name": "python3"
  },
  "language_info": {
   "codemirror_mode": {
    "name": "ipython",
    "version": 3
   },
   "file_extension": ".py",
   "mimetype": "text/x-python",
   "name": "python",
   "nbconvert_exporter": "python",
   "pygments_lexer": "ipython3",
   "version": "3.10.9"
  }
 },
 "nbformat": 4,
 "nbformat_minor": 5
}
