{
 "cells": [
  {
   "cell_type": "code",
   "execution_count": 1,
   "id": "df6a4c80",
   "metadata": {},
   "outputs": [],
   "source": [
    "import torch\n",
    "import torch.nn as nn"
   ]
  },
  {
   "cell_type": "code",
   "execution_count": 5,
   "id": "a96192ba",
   "metadata": {},
   "outputs": [
    {
     "data": {
      "text/plain": [
       "Parameter containing:\n",
       "tensor([[ 0.4177, -0.1009,  0.2661, -0.2513, -0.2045],\n",
       "        [-0.1212, -0.3192, -0.2318, -0.3838,  0.2761],\n",
       "        [ 0.2042, -0.3384,  0.0663,  0.2968,  0.0430],\n",
       "        [ 0.3513,  0.1752, -0.0406, -0.4325, -0.4222],\n",
       "        [-0.1658,  0.0721,  0.1407, -0.0065, -0.3227]], requires_grad=True)"
      ]
     },
     "execution_count": 5,
     "metadata": {},
     "output_type": "execute_result"
    }
   ],
   "source": [
    "layer = nn.Linear(5,5)\n",
    "layer.weight"
   ]
  },
  {
   "cell_type": "code",
   "execution_count": 6,
   "id": "78e500f2",
   "metadata": {},
   "outputs": [
    {
     "data": {
      "text/plain": [
       "tensor([[ 0.4177, -0.1009,  0.2661, -0.2513, -0.2045],\n",
       "        [-0.1212, -0.3192, -0.2318, -0.3838,  0.2761],\n",
       "        [ 0.2042, -0.3384,  0.0663,  0.2968,  0.0430],\n",
       "        [ 0.3513,  0.1752, -0.0406, -0.4325, -0.4222],\n",
       "        [-0.1658,  0.0721,  0.1407, -0.0065, -0.3227]])"
      ]
     },
     "execution_count": 6,
     "metadata": {},
     "output_type": "execute_result"
    }
   ],
   "source": [
    "layer.weight.data"
   ]
  },
  {
   "cell_type": "code",
   "execution_count": 8,
   "id": "1af2ea4a",
   "metadata": {},
   "outputs": [
    {
     "data": {
      "text/plain": [
       "tensor([[1.9552, 1.0154, 2.7024, 0.0830, 1.2568],\n",
       "        [2.6414, 2.5320, 0.3748, 1.4786, 1.2738],\n",
       "        [1.9181, 0.5866, 2.5842, 1.5479, 0.7514],\n",
       "        [2.9184, 2.6073, 0.6325, 2.2368, 0.4774],\n",
       "        [1.5555, 2.8263, 0.3460, 2.8369, 2.3498]])"
      ]
     },
     "execution_count": 8,
     "metadata": {},
     "output_type": "execute_result"
    }
   ],
   "source": [
    "nn.init.uniform_(layer.weight.data,a=0.0,b=3)"
   ]
  },
  {
   "cell_type": "code",
   "execution_count": 9,
   "id": "75b0964b",
   "metadata": {},
   "outputs": [
    {
     "data": {
      "text/plain": [
       "Parameter containing:\n",
       "tensor([[ 0.4440, -0.0991,  0.5504, -0.5357,  0.1406],\n",
       "        [ 0.7555, -0.4935, -0.5820,  1.2463, -0.1475],\n",
       "        [-0.2359,  1.7288,  0.3198,  1.2990,  1.5907],\n",
       "        [ 1.1822,  2.1888,  0.1475, -0.0221,  0.9578],\n",
       "        [ 0.4697,  2.0269, -0.6363,  0.5704, -1.2527]], requires_grad=True)"
      ]
     },
     "execution_count": 9,
     "metadata": {},
     "output_type": "execute_result"
    }
   ],
   "source": [
    "nn.init.normal_(layer.weight,mean=0.0,std=1.0)"
   ]
  },
  {
   "cell_type": "code",
   "execution_count": 10,
   "id": "7a47eb12",
   "metadata": {},
   "outputs": [
    {
     "data": {
      "text/plain": [
       "Parameter containing:\n",
       "tensor([[-0.8584, -0.1769, -0.0477, -0.0912,  0.1252],\n",
       "        [-0.4652, -0.0558, -0.0124,  0.1959, -0.3256],\n",
       "        [-0.2992, -0.0394, -0.1621,  0.4130,  0.0724],\n",
       "        [-0.2228, -0.1917,  0.0650, -0.1357,  0.0938],\n",
       "        [ 0.2026,  0.3306, -0.0025, -0.1377,  0.0945]], requires_grad=True)"
      ]
     },
     "execution_count": 10,
     "metadata": {},
     "output_type": "execute_result"
    }
   ],
   "source": [
    "nn.init.normal_(layer.weight,mean=0.0,std=0.2)"
   ]
  },
  {
   "cell_type": "code",
   "execution_count": 12,
   "id": "121fd724",
   "metadata": {},
   "outputs": [
    {
     "data": {
      "text/plain": [
       "Parameter containing:\n",
       "tensor([0., 0., 0., 0., 0.], requires_grad=True)"
      ]
     },
     "execution_count": 12,
     "metadata": {},
     "output_type": "execute_result"
    }
   ],
   "source": [
    "# not good idea to use constant as a weight values< but as a bias will do OK\n",
    "nn.init.constant_(layer.bias,)"
   ]
  },
  {
   "cell_type": "code",
   "execution_count": 15,
   "id": "222fc045",
   "metadata": {},
   "outputs": [
    {
     "data": {
      "text/plain": [
       "Parameter containing:\n",
       "tensor([0., 0., 0., 0., 0.], requires_grad=True)"
      ]
     },
     "execution_count": 15,
     "metadata": {},
     "output_type": "execute_result"
    }
   ],
   "source": [
    "nn.init.zeros_(layer.bias)"
   ]
  },
  {
   "cell_type": "code",
   "execution_count": 25,
   "id": "7dd79dbf",
   "metadata": {},
   "outputs": [
    {
     "data": {
      "text/plain": [
       "Parameter containing:\n",
       "tensor([[ 0.2392, -0.6794, -0.1865,  0.1975,  0.2212],\n",
       "        [-0.3713, -0.5789,  0.4495, -0.3148, -0.2850],\n",
       "        [ 0.1636,  0.7267, -0.2822, -0.5746, -0.3538],\n",
       "        [ 0.4950,  0.2078,  0.2793,  0.5135,  0.1585],\n",
       "        [ 0.2550,  0.1450, -0.1759,  0.7403, -0.0267]], requires_grad=True)"
      ]
     },
     "execution_count": 25,
     "metadata": {},
     "output_type": "execute_result"
    }
   ],
   "source": [
    "nn.init.xavier_uniform_(layer.weight,gain=1.0)\n",
    "layer.weight"
   ]
  },
  {
   "cell_type": "code",
   "execution_count": 26,
   "id": "b9a7b7d3",
   "metadata": {},
   "outputs": [
    {
     "name": "stdout",
     "output_type": "stream",
     "text": [
      "Defaulting to user installation because normal site-packages is not writeableNote: you may need to restart the kernel to use updated packages.\n"
     ]
    },
    {
     "name": "stderr",
     "output_type": "stream",
     "text": [
      "ERROR: Could not find a version that satisfies the requirement git (from versions: none)\n",
      "ERROR: No matching distribution found for git\n"
     ]
    },
    {
     "name": "stdout",
     "output_type": "stream",
     "text": [
      "\n"
     ]
    }
   ],
   "source": []
  },
  {
   "cell_type": "code",
   "execution_count": null,
   "id": "5fdaacaf",
   "metadata": {},
   "outputs": [],
   "source": []
  }
 ],
 "metadata": {
  "kernelspec": {
   "display_name": "Python 3 (ipykernel)",
   "language": "python",
   "name": "python3"
  },
  "language_info": {
   "codemirror_mode": {
    "name": "ipython",
    "version": 3
   },
   "file_extension": ".py",
   "mimetype": "text/x-python",
   "name": "python",
   "nbconvert_exporter": "python",
   "pygments_lexer": "ipython3",
   "version": "3.10.9"
  }
 },
 "nbformat": 4,
 "nbformat_minor": 5
}
