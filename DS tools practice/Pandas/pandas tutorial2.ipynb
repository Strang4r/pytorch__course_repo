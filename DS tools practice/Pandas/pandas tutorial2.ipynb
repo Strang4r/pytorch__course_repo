{
 "cells": [
  {
   "cell_type": "code",
   "execution_count": 1,
   "metadata": {
    "collapsed": true,
    "ExecuteTime": {
     "end_time": "2023-07-08T02:20:13.685801100Z",
     "start_time": "2023-07-08T02:20:13.258803200Z"
    }
   },
   "outputs": [],
   "source": [
    "import pandas as pd"
   ]
  },
  {
   "cell_type": "code",
   "execution_count": 2,
   "outputs": [],
   "source": [
    "df =pd.read_csv('data/survey_results_public.csv')\n",
    "schema_df= pd.read_csv('data/survey_results_schema.csv')"
   ],
   "metadata": {
    "collapsed": false,
    "ExecuteTime": {
     "end_time": "2023-07-08T02:20:15.464592900Z",
     "start_time": "2023-07-08T02:20:13.687803900Z"
    }
   }
  },
  {
   "cell_type": "code",
   "execution_count": 3,
   "outputs": [],
   "source": [
    "pd.set_option('display.max_columns',85)\n",
    "pd.set_option('display.max_rows',85)"
   ],
   "metadata": {
    "collapsed": false,
    "ExecuteTime": {
     "end_time": "2023-07-08T02:20:15.481593200Z",
     "start_time": "2023-07-08T02:20:15.465596800Z"
    }
   }
  },
  {
   "cell_type": "code",
   "execution_count": 4,
   "outputs": [
    {
     "data": {
      "text/plain": "   Respondent                                         MainBranch Hobbyist  \\\n0           1             I am a student who is learning to code      Yes   \n1           2             I am a student who is learning to code       No   \n2           3  I am not primarily a developer, but I write co...      Yes   \n3           4                     I am a developer by profession       No   \n4           5                     I am a developer by profession      Yes   \n\n                  OpenSourcer  \\\n0                       Never   \n1     Less than once per year   \n2                       Never   \n3                       Never   \n4  Once a month or more often   \n\n                                          OpenSource  \\\n0  The quality of OSS and closed source software ...   \n1  The quality of OSS and closed source software ...   \n2  The quality of OSS and closed source software ...   \n3  The quality of OSS and closed source software ...   \n4  OSS is, on average, of HIGHER quality than pro...   \n\n                               Employment                 Country  \\\n0  Not employed, and not looking for work          United Kingdom   \n1      Not employed, but looking for work  Bosnia and Herzegovina   \n2                      Employed full-time                Thailand   \n3                      Employed full-time           United States   \n4                      Employed full-time                 Ukraine   \n\n          Student                                            EdLevel  \\\n0              No                          Primary/elementary school   \n1  Yes, full-time  Secondary school (e.g. American high school, G...   \n2              No           Bachelor’s degree (BA, BS, B.Eng., etc.)   \n3              No           Bachelor’s degree (BA, BS, B.Eng., etc.)   \n4              No           Bachelor’s degree (BA, BS, B.Eng., etc.)   \n\n                                      UndergradMajor  \\\n0                                                NaN   \n1                                                NaN   \n2                      Web development or web design   \n3  Computer science, computer engineering, or sof...   \n4  Computer science, computer engineering, or sof...   \n\n                                            EduOther  \\\n0  Taught yourself a new language, framework, or ...   \n1  Taken an online course in programming or softw...   \n2  Taught yourself a new language, framework, or ...   \n3  Taken an online course in programming or softw...   \n4  Taken an online course in programming or softw...   \n\n                    OrgSize  \\\n0                       NaN   \n1                       NaN   \n2      100 to 499 employees   \n3      100 to 499 employees   \n4  10,000 or more employees   \n\n                                             DevType YearsCode Age1stCode  \\\n0                                                NaN         4         10   \n1  Developer, desktop or enterprise applications;...       NaN         17   \n2  Designer;Developer, back-end;Developer, front-...         3         22   \n3                              Developer, full-stack         3         16   \n4  Academic researcher;Developer, desktop or ente...        16         14   \n\n       YearsCodePro           CareerSat                 JobSat  \\\n0               NaN                 NaN                    NaN   \n1               NaN                 NaN                    NaN   \n2                 1  Slightly satisfied     Slightly satisfied   \n3  Less than 1 year      Very satisfied     Slightly satisfied   \n4                 9   Very dissatisfied  Slightly dissatisfied   \n\n               MgrIdiot  MgrMoney   MgrWant  \\\n0                   NaN       NaN       NaN   \n1                   NaN       NaN       NaN   \n2  Not at all confident  Not sure  Not sure   \n3        Very confident        No  Not sure   \n4    Somewhat confident       Yes        No   \n\n                                             JobSeek          LastHireDate  \\\n0                                                NaN                   NaN   \n1                    I am actively looking for a job  I've never had a job   \n2  I’m not actively looking, but I am open to new...         1-2 years ago   \n3       I am not interested in new job opportunities  Less than a year ago   \n4       I am not interested in new job opportunities  Less than a year ago   \n\n                                             LastInt FizzBuzz  \\\n0                                                NaN      NaN   \n1                                                NaN      NaN   \n2                Interview with people in peer roles       No   \n3  Write code by hand (e.g., on a whiteboard);Int...       No   \n4  Write any code;Write code by hand (e.g., on a ...       No   \n\n                                          JobFactors  \\\n0                                                NaN   \n1  Financial performance or funding status of the...   \n2  Languages, frameworks, and other technologies ...   \n3  Languages, frameworks, and other technologies ...   \n4  Industry that I'd be working in;Languages, fra...   \n\n                                        ResumeUpdate CurrencySymbol  \\\n0                                                NaN            NaN   \n1  Something else changed (education, award, medi...            NaN   \n2                   I was preparing for a job search            THB   \n3                   I was preparing for a job search            USD   \n4                   I was preparing for a job search            UAH   \n\n           CurrencyDesc  CompTotal CompFreq  ConvertedComp  WorkWeekHrs  \\\n0                   NaN        NaN      NaN            NaN          NaN   \n1                   NaN        NaN      NaN            NaN          NaN   \n2             Thai baht    23000.0  Monthly         8820.0         40.0   \n3  United States dollar    61000.0   Yearly        61000.0         80.0   \n4     Ukrainian hryvnia        NaN      NaN            NaN         55.0   \n\n                                            WorkPlan  \\\n0                                                NaN   \n1                                                NaN   \n2  There's no schedule or spec; I work on what se...   \n3  There's no schedule or spec; I work on what se...   \n4  There is a schedule and/or spec (made by me or...   \n\n                                       WorkChallenge  \\\n0                                                NaN   \n1                                                NaN   \n2  Distracting work environment;Inadequate access...   \n3                                                NaN   \n4  Being tasked with non-development work;Inadequ...   \n\n                         WorkRemote WorkLoc                  ImpSyn  \\\n0                               NaN     NaN                     NaN   \n1                               NaN     NaN                     NaN   \n2  Less than once per month / Never    Home                 Average   \n3  Less than once per month / Never    Home  A little below average   \n4             A few days each month  Office  A little above average   \n\n                                   CodeRev  CodeRevHrs  \\\n0                                      NaN         NaN   \n1                                      NaN         NaN   \n2                                       No         NaN   \n3                                       No         NaN   \n4  Yes, because I see value in code review         NaN   \n\n                       UnitTests  \\\n0                            NaN   \n1                            NaN   \n2      No, but I think we should   \n3      No, but I think we should   \n4  Yes, it's part of our process   \n\n                                         PurchaseHow  \\\n0                                                NaN   \n1                                                NaN   \n2                                           Not sure   \n3  Developers typically have the most influence o...   \n4                                           Not sure   \n\n                    PurchaseWhat                           LanguageWorkedWith  \\\n0                            NaN              HTML/CSS;Java;JavaScript;Python   \n1                            NaN                          C++;HTML/CSS;Python   \n2  I have little or no influence                                     HTML/CSS   \n3  I have little or no influence                          C;C++;C#;Python;SQL   \n4  I have little or no influence  C++;HTML/CSS;Java;JavaScript;Python;SQL;VBA   \n\n                            LanguageDesireNextYear  \\\n0  C;C++;C#;Go;HTML/CSS;Java;JavaScript;Python;SQL   \n1                      C++;HTML/CSS;JavaScript;SQL   \n2                                  Elixir;HTML/CSS   \n3                              C;C#;JavaScript;SQL   \n4         HTML/CSS;Java;JavaScript;SQL;WebAssembly   \n\n                                 DatabaseWorkedWith  \\\n0                                            SQLite   \n1                                               NaN   \n2                                        PostgreSQL   \n3                                      MySQL;SQLite   \n4  Couchbase;MongoDB;MySQL;Oracle;PostgreSQL;SQLite   \n\n                              DatabaseDesireNextYear  \\\n0                                              MySQL   \n1                                              MySQL   \n2                                         PostgreSQL   \n3                                       MySQL;SQLite   \n4  Couchbase;Firebase;MongoDB;MySQL;Oracle;Postgr...   \n\n                  PlatformWorkedWith                 PlatformDesireNextYear  \\\n0                      MacOS;Windows                Android;Arduino;Windows   \n1                            Windows                                Windows   \n2                                NaN                                    NaN   \n3                      Linux;Windows                          Linux;Windows   \n4  Android;Linux;MacOS;Slack;Windows  Android;Docker;Kubernetes;Linux;Slack   \n\n                            WebFrameWorkedWith        WebFrameDesireNextYear  \\\n0                                 Django;Flask                  Flask;jQuery   \n1                                       Django                        Django   \n2                                          NaN                     Other(s):   \n3                                          NaN                           NaN   \n4  Django;Express;Flask;jQuery;React.js;Spring  Flask;jQuery;React.js;Spring   \n\n  MiscTechWorkedWith                    MiscTechDesireNextYear  \\\n0            Node.js                                   Node.js   \n1                NaN                                       NaN   \n2                NaN                                       NaN   \n3               .NET                                      .NET   \n4    Cordova;Node.js  Apache Spark;Hadoop;Node.js;React Native   \n\n                                     DevEnviron        OpSys  \\\n0                    IntelliJ;Notepad++;PyCharm      Windows   \n1                                  Atom;PyCharm      Windows   \n2                        Vim;Visual Studio Code  Linux-based   \n3  Eclipse;Vim;Visual Studio;Visual Studio Code      Windows   \n4                        IntelliJ;Notepad++;Vim  Linux-based   \n\n                               Containers BlockchainOrg  \\\n0                 I do not use containers           NaN   \n1                 I do not use containers           NaN   \n2                 I do not use containers           NaN   \n3                 I do not use containers    Not at all   \n4  Outside of work, for personal projects    Not at all   \n\n                                        BlockchainIs BetterLife  \\\n0                                                NaN        Yes   \n1  Useful across many domains and could change ma...        Yes   \n2                                                NaN        Yes   \n3  Useful for decentralized currency (i.e., Bitcoin)        Yes   \n4                                                NaN        Yes   \n\n                                   ITperson OffOn SocialMedia  \\\n0  Fortunately, someone else has that title   Yes     Twitter   \n1                                       Yes   Yes   Instagram   \n2                                       Yes   Yes      Reddit   \n3                                      SIGH   Yes      Reddit   \n4                                  Also Yes   Yes    Facebook   \n\n               Extraversion ScreenName        SOVisit1st  \\\n0                    Online   Username              2017   \n1                    Online   Username              2017   \n2  In real life (in person)   Username              2011   \n3  In real life (in person)   Username              2014   \n4  In real life (in person)   Username  I don't remember   \n\n                       SOVisitFreq  \\\n0  A few times per month or weekly   \n1            Daily or almost daily   \n2             A few times per week   \n3            Daily or almost daily   \n4           Multiple times per day   \n\n                                           SOVisitTo  \\\n0  Find answers to specific questions;Learn how t...   \n1  Find answers to specific questions;Learn how t...   \n2  Find answers to specific questions;Learn how t...   \n3  Find answers to specific questions;Pass the ti...   \n4                 Find answers to specific questions   \n\n                  SOFindAnswer                     SOTimeSaved  SOHowMuchTime  \\\n0           3-5 times per week  Stack Overflow was much faster  31-60 minutes   \n1           3-5 times per week  Stack Overflow was much faster  11-30 minutes   \n2          6-10 times per week        They were about the same            NaN   \n3           1-2 times per week  Stack Overflow was much faster  31-60 minutes   \n4  More than 10 times per week  Stack Overflow was much faster            NaN   \n\n  SOAccount                           SOPartFreq  \\\n0        No                                  NaN   \n1       Yes      A few times per month or weekly   \n2       Yes  Less than once per month or monthly   \n3       Yes  Less than once per month or monthly   \n4       Yes      A few times per month or weekly   \n\n                                              SOJobs  \\\n0  No, I didn't know that Stack Overflow had a jo...   \n1  No, I knew that Stack Overflow had a job board...   \n2                                                Yes   \n3                                                Yes   \n4  No, I knew that Stack Overflow had a job board...   \n\n                                            EntTeams           SOComm  \\\n0                No, and I don't know what those are          Neutral   \n1                No, and I don't know what those are    Yes, somewhat   \n2  No, I've heard of them, but I am not part of a...          Neutral   \n3                No, and I don't know what those are   No, not really   \n4  No, I've heard of them, but I am not part of a...  Yes, definitely   \n\n                             WelcomeChange  \\\n0  Just as welcome now as I felt last year   \n1  Just as welcome now as I felt last year   \n2  Just as welcome now as I felt last year   \n3  Just as welcome now as I felt last year   \n4  Just as welcome now as I felt last year   \n\n                                        SONewContent   Age Gender Trans  \\\n0  Tech articles written by other developers;Indu...  14.0    Man    No   \n1  Tech articles written by other developers;Indu...  19.0    Man    No   \n2  Tech meetups or events in your area;Courses on...  28.0    Man    No   \n3  Tech articles written by other developers;Indu...  22.0    Man    No   \n4  Tech meetups or events in your area;Courses on...  30.0    Man    No   \n\n                 Sexuality                                 Ethnicity  \\\n0  Straight / Heterosexual                                       NaN   \n1  Straight / Heterosexual                                       NaN   \n2  Straight / Heterosexual                                       NaN   \n3  Straight / Heterosexual              White or of European descent   \n4  Straight / Heterosexual  White or of European descent;Multiracial   \n\n  Dependents           SurveyLength                  SurveyEase  \n0         No  Appropriate in length  Neither easy nor difficult  \n1         No  Appropriate in length  Neither easy nor difficult  \n2        Yes  Appropriate in length  Neither easy nor difficult  \n3         No  Appropriate in length                        Easy  \n4         No  Appropriate in length                        Easy  ",
      "text/html": "<div>\n<style scoped>\n    .dataframe tbody tr th:only-of-type {\n        vertical-align: middle;\n    }\n\n    .dataframe tbody tr th {\n        vertical-align: top;\n    }\n\n    .dataframe thead th {\n        text-align: right;\n    }\n</style>\n<table border=\"1\" class=\"dataframe\">\n  <thead>\n    <tr style=\"text-align: right;\">\n      <th></th>\n      <th>Respondent</th>\n      <th>MainBranch</th>\n      <th>Hobbyist</th>\n      <th>OpenSourcer</th>\n      <th>OpenSource</th>\n      <th>Employment</th>\n      <th>Country</th>\n      <th>Student</th>\n      <th>EdLevel</th>\n      <th>UndergradMajor</th>\n      <th>EduOther</th>\n      <th>OrgSize</th>\n      <th>DevType</th>\n      <th>YearsCode</th>\n      <th>Age1stCode</th>\n      <th>YearsCodePro</th>\n      <th>CareerSat</th>\n      <th>JobSat</th>\n      <th>MgrIdiot</th>\n      <th>MgrMoney</th>\n      <th>MgrWant</th>\n      <th>JobSeek</th>\n      <th>LastHireDate</th>\n      <th>LastInt</th>\n      <th>FizzBuzz</th>\n      <th>JobFactors</th>\n      <th>ResumeUpdate</th>\n      <th>CurrencySymbol</th>\n      <th>CurrencyDesc</th>\n      <th>CompTotal</th>\n      <th>CompFreq</th>\n      <th>ConvertedComp</th>\n      <th>WorkWeekHrs</th>\n      <th>WorkPlan</th>\n      <th>WorkChallenge</th>\n      <th>WorkRemote</th>\n      <th>WorkLoc</th>\n      <th>ImpSyn</th>\n      <th>CodeRev</th>\n      <th>CodeRevHrs</th>\n      <th>UnitTests</th>\n      <th>PurchaseHow</th>\n      <th>PurchaseWhat</th>\n      <th>LanguageWorkedWith</th>\n      <th>LanguageDesireNextYear</th>\n      <th>DatabaseWorkedWith</th>\n      <th>DatabaseDesireNextYear</th>\n      <th>PlatformWorkedWith</th>\n      <th>PlatformDesireNextYear</th>\n      <th>WebFrameWorkedWith</th>\n      <th>WebFrameDesireNextYear</th>\n      <th>MiscTechWorkedWith</th>\n      <th>MiscTechDesireNextYear</th>\n      <th>DevEnviron</th>\n      <th>OpSys</th>\n      <th>Containers</th>\n      <th>BlockchainOrg</th>\n      <th>BlockchainIs</th>\n      <th>BetterLife</th>\n      <th>ITperson</th>\n      <th>OffOn</th>\n      <th>SocialMedia</th>\n      <th>Extraversion</th>\n      <th>ScreenName</th>\n      <th>SOVisit1st</th>\n      <th>SOVisitFreq</th>\n      <th>SOVisitTo</th>\n      <th>SOFindAnswer</th>\n      <th>SOTimeSaved</th>\n      <th>SOHowMuchTime</th>\n      <th>SOAccount</th>\n      <th>SOPartFreq</th>\n      <th>SOJobs</th>\n      <th>EntTeams</th>\n      <th>SOComm</th>\n      <th>WelcomeChange</th>\n      <th>SONewContent</th>\n      <th>Age</th>\n      <th>Gender</th>\n      <th>Trans</th>\n      <th>Sexuality</th>\n      <th>Ethnicity</th>\n      <th>Dependents</th>\n      <th>SurveyLength</th>\n      <th>SurveyEase</th>\n    </tr>\n  </thead>\n  <tbody>\n    <tr>\n      <th>0</th>\n      <td>1</td>\n      <td>I am a student who is learning to code</td>\n      <td>Yes</td>\n      <td>Never</td>\n      <td>The quality of OSS and closed source software ...</td>\n      <td>Not employed, and not looking for work</td>\n      <td>United Kingdom</td>\n      <td>No</td>\n      <td>Primary/elementary school</td>\n      <td>NaN</td>\n      <td>Taught yourself a new language, framework, or ...</td>\n      <td>NaN</td>\n      <td>NaN</td>\n      <td>4</td>\n      <td>10</td>\n      <td>NaN</td>\n      <td>NaN</td>\n      <td>NaN</td>\n      <td>NaN</td>\n      <td>NaN</td>\n      <td>NaN</td>\n      <td>NaN</td>\n      <td>NaN</td>\n      <td>NaN</td>\n      <td>NaN</td>\n      <td>NaN</td>\n      <td>NaN</td>\n      <td>NaN</td>\n      <td>NaN</td>\n      <td>NaN</td>\n      <td>NaN</td>\n      <td>NaN</td>\n      <td>NaN</td>\n      <td>NaN</td>\n      <td>NaN</td>\n      <td>NaN</td>\n      <td>NaN</td>\n      <td>NaN</td>\n      <td>NaN</td>\n      <td>NaN</td>\n      <td>NaN</td>\n      <td>NaN</td>\n      <td>NaN</td>\n      <td>HTML/CSS;Java;JavaScript;Python</td>\n      <td>C;C++;C#;Go;HTML/CSS;Java;JavaScript;Python;SQL</td>\n      <td>SQLite</td>\n      <td>MySQL</td>\n      <td>MacOS;Windows</td>\n      <td>Android;Arduino;Windows</td>\n      <td>Django;Flask</td>\n      <td>Flask;jQuery</td>\n      <td>Node.js</td>\n      <td>Node.js</td>\n      <td>IntelliJ;Notepad++;PyCharm</td>\n      <td>Windows</td>\n      <td>I do not use containers</td>\n      <td>NaN</td>\n      <td>NaN</td>\n      <td>Yes</td>\n      <td>Fortunately, someone else has that title</td>\n      <td>Yes</td>\n      <td>Twitter</td>\n      <td>Online</td>\n      <td>Username</td>\n      <td>2017</td>\n      <td>A few times per month or weekly</td>\n      <td>Find answers to specific questions;Learn how t...</td>\n      <td>3-5 times per week</td>\n      <td>Stack Overflow was much faster</td>\n      <td>31-60 minutes</td>\n      <td>No</td>\n      <td>NaN</td>\n      <td>No, I didn't know that Stack Overflow had a jo...</td>\n      <td>No, and I don't know what those are</td>\n      <td>Neutral</td>\n      <td>Just as welcome now as I felt last year</td>\n      <td>Tech articles written by other developers;Indu...</td>\n      <td>14.0</td>\n      <td>Man</td>\n      <td>No</td>\n      <td>Straight / Heterosexual</td>\n      <td>NaN</td>\n      <td>No</td>\n      <td>Appropriate in length</td>\n      <td>Neither easy nor difficult</td>\n    </tr>\n    <tr>\n      <th>1</th>\n      <td>2</td>\n      <td>I am a student who is learning to code</td>\n      <td>No</td>\n      <td>Less than once per year</td>\n      <td>The quality of OSS and closed source software ...</td>\n      <td>Not employed, but looking for work</td>\n      <td>Bosnia and Herzegovina</td>\n      <td>Yes, full-time</td>\n      <td>Secondary school (e.g. American high school, G...</td>\n      <td>NaN</td>\n      <td>Taken an online course in programming or softw...</td>\n      <td>NaN</td>\n      <td>Developer, desktop or enterprise applications;...</td>\n      <td>NaN</td>\n      <td>17</td>\n      <td>NaN</td>\n      <td>NaN</td>\n      <td>NaN</td>\n      <td>NaN</td>\n      <td>NaN</td>\n      <td>NaN</td>\n      <td>I am actively looking for a job</td>\n      <td>I've never had a job</td>\n      <td>NaN</td>\n      <td>NaN</td>\n      <td>Financial performance or funding status of the...</td>\n      <td>Something else changed (education, award, medi...</td>\n      <td>NaN</td>\n      <td>NaN</td>\n      <td>NaN</td>\n      <td>NaN</td>\n      <td>NaN</td>\n      <td>NaN</td>\n      <td>NaN</td>\n      <td>NaN</td>\n      <td>NaN</td>\n      <td>NaN</td>\n      <td>NaN</td>\n      <td>NaN</td>\n      <td>NaN</td>\n      <td>NaN</td>\n      <td>NaN</td>\n      <td>NaN</td>\n      <td>C++;HTML/CSS;Python</td>\n      <td>C++;HTML/CSS;JavaScript;SQL</td>\n      <td>NaN</td>\n      <td>MySQL</td>\n      <td>Windows</td>\n      <td>Windows</td>\n      <td>Django</td>\n      <td>Django</td>\n      <td>NaN</td>\n      <td>NaN</td>\n      <td>Atom;PyCharm</td>\n      <td>Windows</td>\n      <td>I do not use containers</td>\n      <td>NaN</td>\n      <td>Useful across many domains and could change ma...</td>\n      <td>Yes</td>\n      <td>Yes</td>\n      <td>Yes</td>\n      <td>Instagram</td>\n      <td>Online</td>\n      <td>Username</td>\n      <td>2017</td>\n      <td>Daily or almost daily</td>\n      <td>Find answers to specific questions;Learn how t...</td>\n      <td>3-5 times per week</td>\n      <td>Stack Overflow was much faster</td>\n      <td>11-30 minutes</td>\n      <td>Yes</td>\n      <td>A few times per month or weekly</td>\n      <td>No, I knew that Stack Overflow had a job board...</td>\n      <td>No, and I don't know what those are</td>\n      <td>Yes, somewhat</td>\n      <td>Just as welcome now as I felt last year</td>\n      <td>Tech articles written by other developers;Indu...</td>\n      <td>19.0</td>\n      <td>Man</td>\n      <td>No</td>\n      <td>Straight / Heterosexual</td>\n      <td>NaN</td>\n      <td>No</td>\n      <td>Appropriate in length</td>\n      <td>Neither easy nor difficult</td>\n    </tr>\n    <tr>\n      <th>2</th>\n      <td>3</td>\n      <td>I am not primarily a developer, but I write co...</td>\n      <td>Yes</td>\n      <td>Never</td>\n      <td>The quality of OSS and closed source software ...</td>\n      <td>Employed full-time</td>\n      <td>Thailand</td>\n      <td>No</td>\n      <td>Bachelor’s degree (BA, BS, B.Eng., etc.)</td>\n      <td>Web development or web design</td>\n      <td>Taught yourself a new language, framework, or ...</td>\n      <td>100 to 499 employees</td>\n      <td>Designer;Developer, back-end;Developer, front-...</td>\n      <td>3</td>\n      <td>22</td>\n      <td>1</td>\n      <td>Slightly satisfied</td>\n      <td>Slightly satisfied</td>\n      <td>Not at all confident</td>\n      <td>Not sure</td>\n      <td>Not sure</td>\n      <td>I’m not actively looking, but I am open to new...</td>\n      <td>1-2 years ago</td>\n      <td>Interview with people in peer roles</td>\n      <td>No</td>\n      <td>Languages, frameworks, and other technologies ...</td>\n      <td>I was preparing for a job search</td>\n      <td>THB</td>\n      <td>Thai baht</td>\n      <td>23000.0</td>\n      <td>Monthly</td>\n      <td>8820.0</td>\n      <td>40.0</td>\n      <td>There's no schedule or spec; I work on what se...</td>\n      <td>Distracting work environment;Inadequate access...</td>\n      <td>Less than once per month / Never</td>\n      <td>Home</td>\n      <td>Average</td>\n      <td>No</td>\n      <td>NaN</td>\n      <td>No, but I think we should</td>\n      <td>Not sure</td>\n      <td>I have little or no influence</td>\n      <td>HTML/CSS</td>\n      <td>Elixir;HTML/CSS</td>\n      <td>PostgreSQL</td>\n      <td>PostgreSQL</td>\n      <td>NaN</td>\n      <td>NaN</td>\n      <td>NaN</td>\n      <td>Other(s):</td>\n      <td>NaN</td>\n      <td>NaN</td>\n      <td>Vim;Visual Studio Code</td>\n      <td>Linux-based</td>\n      <td>I do not use containers</td>\n      <td>NaN</td>\n      <td>NaN</td>\n      <td>Yes</td>\n      <td>Yes</td>\n      <td>Yes</td>\n      <td>Reddit</td>\n      <td>In real life (in person)</td>\n      <td>Username</td>\n      <td>2011</td>\n      <td>A few times per week</td>\n      <td>Find answers to specific questions;Learn how t...</td>\n      <td>6-10 times per week</td>\n      <td>They were about the same</td>\n      <td>NaN</td>\n      <td>Yes</td>\n      <td>Less than once per month or monthly</td>\n      <td>Yes</td>\n      <td>No, I've heard of them, but I am not part of a...</td>\n      <td>Neutral</td>\n      <td>Just as welcome now as I felt last year</td>\n      <td>Tech meetups or events in your area;Courses on...</td>\n      <td>28.0</td>\n      <td>Man</td>\n      <td>No</td>\n      <td>Straight / Heterosexual</td>\n      <td>NaN</td>\n      <td>Yes</td>\n      <td>Appropriate in length</td>\n      <td>Neither easy nor difficult</td>\n    </tr>\n    <tr>\n      <th>3</th>\n      <td>4</td>\n      <td>I am a developer by profession</td>\n      <td>No</td>\n      <td>Never</td>\n      <td>The quality of OSS and closed source software ...</td>\n      <td>Employed full-time</td>\n      <td>United States</td>\n      <td>No</td>\n      <td>Bachelor’s degree (BA, BS, B.Eng., etc.)</td>\n      <td>Computer science, computer engineering, or sof...</td>\n      <td>Taken an online course in programming or softw...</td>\n      <td>100 to 499 employees</td>\n      <td>Developer, full-stack</td>\n      <td>3</td>\n      <td>16</td>\n      <td>Less than 1 year</td>\n      <td>Very satisfied</td>\n      <td>Slightly satisfied</td>\n      <td>Very confident</td>\n      <td>No</td>\n      <td>Not sure</td>\n      <td>I am not interested in new job opportunities</td>\n      <td>Less than a year ago</td>\n      <td>Write code by hand (e.g., on a whiteboard);Int...</td>\n      <td>No</td>\n      <td>Languages, frameworks, and other technologies ...</td>\n      <td>I was preparing for a job search</td>\n      <td>USD</td>\n      <td>United States dollar</td>\n      <td>61000.0</td>\n      <td>Yearly</td>\n      <td>61000.0</td>\n      <td>80.0</td>\n      <td>There's no schedule or spec; I work on what se...</td>\n      <td>NaN</td>\n      <td>Less than once per month / Never</td>\n      <td>Home</td>\n      <td>A little below average</td>\n      <td>No</td>\n      <td>NaN</td>\n      <td>No, but I think we should</td>\n      <td>Developers typically have the most influence o...</td>\n      <td>I have little or no influence</td>\n      <td>C;C++;C#;Python;SQL</td>\n      <td>C;C#;JavaScript;SQL</td>\n      <td>MySQL;SQLite</td>\n      <td>MySQL;SQLite</td>\n      <td>Linux;Windows</td>\n      <td>Linux;Windows</td>\n      <td>NaN</td>\n      <td>NaN</td>\n      <td>.NET</td>\n      <td>.NET</td>\n      <td>Eclipse;Vim;Visual Studio;Visual Studio Code</td>\n      <td>Windows</td>\n      <td>I do not use containers</td>\n      <td>Not at all</td>\n      <td>Useful for decentralized currency (i.e., Bitcoin)</td>\n      <td>Yes</td>\n      <td>SIGH</td>\n      <td>Yes</td>\n      <td>Reddit</td>\n      <td>In real life (in person)</td>\n      <td>Username</td>\n      <td>2014</td>\n      <td>Daily or almost daily</td>\n      <td>Find answers to specific questions;Pass the ti...</td>\n      <td>1-2 times per week</td>\n      <td>Stack Overflow was much faster</td>\n      <td>31-60 minutes</td>\n      <td>Yes</td>\n      <td>Less than once per month or monthly</td>\n      <td>Yes</td>\n      <td>No, and I don't know what those are</td>\n      <td>No, not really</td>\n      <td>Just as welcome now as I felt last year</td>\n      <td>Tech articles written by other developers;Indu...</td>\n      <td>22.0</td>\n      <td>Man</td>\n      <td>No</td>\n      <td>Straight / Heterosexual</td>\n      <td>White or of European descent</td>\n      <td>No</td>\n      <td>Appropriate in length</td>\n      <td>Easy</td>\n    </tr>\n    <tr>\n      <th>4</th>\n      <td>5</td>\n      <td>I am a developer by profession</td>\n      <td>Yes</td>\n      <td>Once a month or more often</td>\n      <td>OSS is, on average, of HIGHER quality than pro...</td>\n      <td>Employed full-time</td>\n      <td>Ukraine</td>\n      <td>No</td>\n      <td>Bachelor’s degree (BA, BS, B.Eng., etc.)</td>\n      <td>Computer science, computer engineering, or sof...</td>\n      <td>Taken an online course in programming or softw...</td>\n      <td>10,000 or more employees</td>\n      <td>Academic researcher;Developer, desktop or ente...</td>\n      <td>16</td>\n      <td>14</td>\n      <td>9</td>\n      <td>Very dissatisfied</td>\n      <td>Slightly dissatisfied</td>\n      <td>Somewhat confident</td>\n      <td>Yes</td>\n      <td>No</td>\n      <td>I am not interested in new job opportunities</td>\n      <td>Less than a year ago</td>\n      <td>Write any code;Write code by hand (e.g., on a ...</td>\n      <td>No</td>\n      <td>Industry that I'd be working in;Languages, fra...</td>\n      <td>I was preparing for a job search</td>\n      <td>UAH</td>\n      <td>Ukrainian hryvnia</td>\n      <td>NaN</td>\n      <td>NaN</td>\n      <td>NaN</td>\n      <td>55.0</td>\n      <td>There is a schedule and/or spec (made by me or...</td>\n      <td>Being tasked with non-development work;Inadequ...</td>\n      <td>A few days each month</td>\n      <td>Office</td>\n      <td>A little above average</td>\n      <td>Yes, because I see value in code review</td>\n      <td>NaN</td>\n      <td>Yes, it's part of our process</td>\n      <td>Not sure</td>\n      <td>I have little or no influence</td>\n      <td>C++;HTML/CSS;Java;JavaScript;Python;SQL;VBA</td>\n      <td>HTML/CSS;Java;JavaScript;SQL;WebAssembly</td>\n      <td>Couchbase;MongoDB;MySQL;Oracle;PostgreSQL;SQLite</td>\n      <td>Couchbase;Firebase;MongoDB;MySQL;Oracle;Postgr...</td>\n      <td>Android;Linux;MacOS;Slack;Windows</td>\n      <td>Android;Docker;Kubernetes;Linux;Slack</td>\n      <td>Django;Express;Flask;jQuery;React.js;Spring</td>\n      <td>Flask;jQuery;React.js;Spring</td>\n      <td>Cordova;Node.js</td>\n      <td>Apache Spark;Hadoop;Node.js;React Native</td>\n      <td>IntelliJ;Notepad++;Vim</td>\n      <td>Linux-based</td>\n      <td>Outside of work, for personal projects</td>\n      <td>Not at all</td>\n      <td>NaN</td>\n      <td>Yes</td>\n      <td>Also Yes</td>\n      <td>Yes</td>\n      <td>Facebook</td>\n      <td>In real life (in person)</td>\n      <td>Username</td>\n      <td>I don't remember</td>\n      <td>Multiple times per day</td>\n      <td>Find answers to specific questions</td>\n      <td>More than 10 times per week</td>\n      <td>Stack Overflow was much faster</td>\n      <td>NaN</td>\n      <td>Yes</td>\n      <td>A few times per month or weekly</td>\n      <td>No, I knew that Stack Overflow had a job board...</td>\n      <td>No, I've heard of them, but I am not part of a...</td>\n      <td>Yes, definitely</td>\n      <td>Just as welcome now as I felt last year</td>\n      <td>Tech meetups or events in your area;Courses on...</td>\n      <td>30.0</td>\n      <td>Man</td>\n      <td>No</td>\n      <td>Straight / Heterosexual</td>\n      <td>White or of European descent;Multiracial</td>\n      <td>No</td>\n      <td>Appropriate in length</td>\n      <td>Easy</td>\n    </tr>\n  </tbody>\n</table>\n</div>"
     },
     "execution_count": 4,
     "metadata": {},
     "output_type": "execute_result"
    }
   ],
   "source": [
    "df.head()"
   ],
   "metadata": {
    "collapsed": false,
    "ExecuteTime": {
     "end_time": "2023-07-08T02:20:15.546593400Z",
     "start_time": "2023-07-08T02:20:15.481593200Z"
    }
   }
  },
  {
   "cell_type": "code",
   "execution_count": 5,
   "outputs": [
    {
     "name": "stdout",
     "output_type": "stream",
     "text": [
      "<class 'pandas.core.frame.DataFrame'>\n",
      "RangeIndex: 88883 entries, 0 to 88882\n",
      "Data columns (total 85 columns):\n",
      " #   Column                  Non-Null Count  Dtype  \n",
      "---  ------                  --------------  -----  \n",
      " 0   Respondent              88883 non-null  int64  \n",
      " 1   MainBranch              88331 non-null  object \n",
      " 2   Hobbyist                88883 non-null  object \n",
      " 3   OpenSourcer             88883 non-null  object \n",
      " 4   OpenSource              86842 non-null  object \n",
      " 5   Employment              87181 non-null  object \n",
      " 6   Country                 88751 non-null  object \n",
      " 7   Student                 87014 non-null  object \n",
      " 8   EdLevel                 86390 non-null  object \n",
      " 9   UndergradMajor          75614 non-null  object \n",
      " 10  EduOther                84260 non-null  object \n",
      " 11  OrgSize                 71791 non-null  object \n",
      " 12  DevType                 81335 non-null  object \n",
      " 13  YearsCode               87938 non-null  object \n",
      " 14  Age1stCode              87634 non-null  object \n",
      " 15  YearsCodePro            74331 non-null  object \n",
      " 16  CareerSat               72847 non-null  object \n",
      " 17  JobSat                  70988 non-null  object \n",
      " 18  MgrIdiot                61159 non-null  object \n",
      " 19  MgrMoney                61157 non-null  object \n",
      " 20  MgrWant                 61232 non-null  object \n",
      " 21  JobSeek                 80555 non-null  object \n",
      " 22  LastHireDate            79854 non-null  object \n",
      " 23  LastInt                 67155 non-null  object \n",
      " 24  FizzBuzz                71344 non-null  object \n",
      " 25  JobFactors              79371 non-null  object \n",
      " 26  ResumeUpdate            77877 non-null  object \n",
      " 27  CurrencySymbol          71392 non-null  object \n",
      " 28  CurrencyDesc            71392 non-null  object \n",
      " 29  CompTotal               55945 non-null  float64\n",
      " 30  CompFreq                63268 non-null  object \n",
      " 31  ConvertedComp           55823 non-null  float64\n",
      " 32  WorkWeekHrs             64503 non-null  float64\n",
      " 33  WorkPlan                68914 non-null  object \n",
      " 34  WorkChallenge           68141 non-null  object \n",
      " 35  WorkRemote              70284 non-null  object \n",
      " 36  WorkLoc                 70055 non-null  object \n",
      " 37  ImpSyn                  71779 non-null  object \n",
      " 38  CodeRev                 70390 non-null  object \n",
      " 39  CodeRevHrs              49790 non-null  float64\n",
      " 40  UnitTests               62668 non-null  object \n",
      " 41  PurchaseHow             61108 non-null  object \n",
      " 42  PurchaseWhat            62029 non-null  object \n",
      " 43  LanguageWorkedWith      87569 non-null  object \n",
      " 44  LanguageDesireNextYear  84088 non-null  object \n",
      " 45  DatabaseWorkedWith      76026 non-null  object \n",
      " 46  DatabaseDesireNextYear  69147 non-null  object \n",
      " 47  PlatformWorkedWith      80714 non-null  object \n",
      " 48  PlatformDesireNextYear  77443 non-null  object \n",
      " 49  WebFrameWorkedWith      65022 non-null  object \n",
      " 50  WebFrameDesireNextYear  62944 non-null  object \n",
      " 51  MiscTechWorkedWith      59586 non-null  object \n",
      " 52  MiscTechDesireNextYear  64511 non-null  object \n",
      " 53  DevEnviron              87317 non-null  object \n",
      " 54  OpSys                   87851 non-null  object \n",
      " 55  Containers              85366 non-null  object \n",
      " 56  BlockchainOrg           48175 non-null  object \n",
      " 57  BlockchainIs            60165 non-null  object \n",
      " 58  BetterLife              86269 non-null  object \n",
      " 59  ITperson                87141 non-null  object \n",
      " 60  OffOn                   86663 non-null  object \n",
      " 61  SocialMedia             84437 non-null  object \n",
      " 62  Extraversion            87305 non-null  object \n",
      " 63  ScreenName              80486 non-null  object \n",
      " 64  SOVisit1st              83877 non-null  object \n",
      " 65  SOVisitFreq             88263 non-null  object \n",
      " 66  SOVisitTo               88086 non-null  object \n",
      " 67  SOFindAnswer            87816 non-null  object \n",
      " 68  SOTimeSaved             86344 non-null  object \n",
      " 69  SOHowMuchTime           68378 non-null  object \n",
      " 70  SOAccount               87828 non-null  object \n",
      " 71  SOPartFreq              74692 non-null  object \n",
      " 72  SOJobs                  88066 non-null  object \n",
      " 73  EntTeams                87841 non-null  object \n",
      " 74  SOComm                  88131 non-null  object \n",
      " 75  WelcomeChange           85855 non-null  object \n",
      " 76  SONewContent            69560 non-null  object \n",
      " 77  Age                     79210 non-null  float64\n",
      " 78  Gender                  85406 non-null  object \n",
      " 79  Trans                   83607 non-null  object \n",
      " 80  Sexuality               76147 non-null  object \n",
      " 81  Ethnicity               76668 non-null  object \n",
      " 82  Dependents              83059 non-null  object \n",
      " 83  SurveyLength            86984 non-null  object \n",
      " 84  SurveyEase              87081 non-null  object \n",
      "dtypes: float64(5), int64(1), object(79)\n",
      "memory usage: 57.6+ MB\n"
     ]
    }
   ],
   "source": [
    "# print info about dataframe like amount of non-null values, value type, col.name\n",
    "df.info()"
   ],
   "metadata": {
    "collapsed": false,
    "ExecuteTime": {
     "end_time": "2023-07-08T02:20:16.254595300Z",
     "start_time": "2023-07-08T02:20:15.546593400Z"
    }
   }
  },
  {
   "cell_type": "code",
   "execution_count": 6,
   "outputs": [],
   "source": [
    "# dataframes can be represented as a dicts\n",
    "people={'first':['Corey','Jane','John'],\n",
    "        \"last\":['Schafer','Doe','Doe'],\n",
    "        \"email\": ['CoreyMSchafer@gmail.com','JaneMyass@mail.com','NoShitBob@gmail.com']}"
   ],
   "metadata": {
    "collapsed": false,
    "ExecuteTime": {
     "end_time": "2023-07-08T02:20:16.315599100Z",
     "start_time": "2023-07-08T02:20:16.257594800Z"
    }
   }
  },
  {
   "cell_type": "code",
   "execution_count": 7,
   "outputs": [
    {
     "data": {
      "text/plain": "['CoreyMSchafer@gmail.com', 'JaneMyass@mail.com', 'NoShitBob@gmail.com']"
     },
     "execution_count": 7,
     "metadata": {},
     "output_type": "execute_result"
    }
   ],
   "source": [
    "people['email']"
   ],
   "metadata": {
    "collapsed": false,
    "ExecuteTime": {
     "end_time": "2023-07-08T02:20:16.330592900Z",
     "start_time": "2023-07-08T02:20:16.273595900Z"
    }
   }
  },
  {
   "cell_type": "code",
   "execution_count": 8,
   "outputs": [],
   "source": [
    "# df = pd.DataFrame(people)\n",
    "# df"
   ],
   "metadata": {
    "collapsed": false,
    "ExecuteTime": {
     "end_time": "2023-07-08T02:20:16.331594400Z",
     "start_time": "2023-07-08T02:20:16.286595700Z"
    }
   }
  },
  {
   "cell_type": "code",
   "execution_count": 9,
   "outputs": [
    {
     "ename": "AttributeError",
     "evalue": "'DataFrame' object has no attribute 'email'",
     "output_type": "error",
     "traceback": [
      "\u001B[1;31m---------------------------------------------------------------------------\u001B[0m",
      "\u001B[1;31mAttributeError\u001B[0m                            Traceback (most recent call last)",
      "Cell \u001B[1;32mIn[9], line 2\u001B[0m\n\u001B[0;32m      1\u001B[0m \u001B[38;5;66;03m# we can access columns both ways through .column_name or ['column_name']. but we can mistake .col_name if df have same method - like df.count\u001B[39;00m\n\u001B[1;32m----> 2\u001B[0m \u001B[43mdf\u001B[49m\u001B[38;5;241;43m.\u001B[39;49m\u001B[43memail\u001B[49m\n",
      "File \u001B[1;32m~\\.conda\\envs\\conda_default_env_backup\\lib\\site-packages\\pandas\\core\\generic.py:5902\u001B[0m, in \u001B[0;36mNDFrame.__getattr__\u001B[1;34m(self, name)\u001B[0m\n\u001B[0;32m   5895\u001B[0m \u001B[38;5;28;01mif\u001B[39;00m (\n\u001B[0;32m   5896\u001B[0m     name \u001B[38;5;129;01mnot\u001B[39;00m \u001B[38;5;129;01min\u001B[39;00m \u001B[38;5;28mself\u001B[39m\u001B[38;5;241m.\u001B[39m_internal_names_set\n\u001B[0;32m   5897\u001B[0m     \u001B[38;5;129;01mand\u001B[39;00m name \u001B[38;5;129;01mnot\u001B[39;00m \u001B[38;5;129;01min\u001B[39;00m \u001B[38;5;28mself\u001B[39m\u001B[38;5;241m.\u001B[39m_metadata\n\u001B[0;32m   5898\u001B[0m     \u001B[38;5;129;01mand\u001B[39;00m name \u001B[38;5;129;01mnot\u001B[39;00m \u001B[38;5;129;01min\u001B[39;00m \u001B[38;5;28mself\u001B[39m\u001B[38;5;241m.\u001B[39m_accessors\n\u001B[0;32m   5899\u001B[0m     \u001B[38;5;129;01mand\u001B[39;00m \u001B[38;5;28mself\u001B[39m\u001B[38;5;241m.\u001B[39m_info_axis\u001B[38;5;241m.\u001B[39m_can_hold_identifiers_and_holds_name(name)\n\u001B[0;32m   5900\u001B[0m ):\n\u001B[0;32m   5901\u001B[0m     \u001B[38;5;28;01mreturn\u001B[39;00m \u001B[38;5;28mself\u001B[39m[name]\n\u001B[1;32m-> 5902\u001B[0m \u001B[38;5;28;01mreturn\u001B[39;00m \u001B[38;5;28;43mobject\u001B[39;49m\u001B[38;5;241;43m.\u001B[39;49m\u001B[38;5;21;43m__getattribute__\u001B[39;49m\u001B[43m(\u001B[49m\u001B[38;5;28;43mself\u001B[39;49m\u001B[43m,\u001B[49m\u001B[43m \u001B[49m\u001B[43mname\u001B[49m\u001B[43m)\u001B[49m\n",
      "\u001B[1;31mAttributeError\u001B[0m: 'DataFrame' object has no attribute 'email'"
     ]
    }
   ],
   "source": [
    "# we can access columns both ways through .column_name or ['column_name']. but we can mistake .col_name if df have same method - like df.count\n",
    "df.email"
   ],
   "metadata": {
    "collapsed": false,
    "ExecuteTime": {
     "end_time": "2023-07-08T02:20:17.634322300Z",
     "start_time": "2023-07-08T02:20:16.315599100Z"
    }
   }
  },
  {
   "cell_type": "code",
   "execution_count": null,
   "outputs": [],
   "source": [
    "# if we having a multiple column like this we returning dataframe. in this case we got filtered down dataframe with just that columns\n",
    "df[['last','email']]"
   ],
   "metadata": {
    "collapsed": false
   }
  },
  {
   "cell_type": "code",
   "execution_count": null,
   "outputs": [],
   "source": [
    "df.columns"
   ],
   "metadata": {
    "collapsed": false
   }
  },
  {
   "cell_type": "code",
   "execution_count": null,
   "outputs": [],
   "source": [
    "# iloc access rows by integer location( like positions in the list)\n",
    "df.iloc[0]"
   ],
   "metadata": {
    "collapsed": false
   }
  },
  {
   "cell_type": "code",
   "execution_count": null,
   "outputs": [],
   "source": [
    "df.iloc[[0,1,2]] # still accessing rows, but we can take 1,2 and 3rd like that"
   ],
   "metadata": {
    "collapsed": false
   }
  },
  {
   "cell_type": "code",
   "execution_count": null,
   "outputs": [],
   "source": [
    "df.iloc[[0,1],1] # here we get first 2 cols and only second row"
   ],
   "metadata": {
    "collapsed": false
   }
  },
  {
   "cell_type": "code",
   "execution_count": null,
   "outputs": [],
   "source": [
    "# loc использует индексные метки датафрейма для получения доступа к строкам датафрейма\n",
    "df.loc[0]"
   ],
   "metadata": {
    "collapsed": false
   }
  },
  {
   "cell_type": "code",
   "execution_count": null,
   "outputs": [],
   "source": [
    "df.loc[[0,1]]"
   ],
   "metadata": {
    "collapsed": false
   }
  },
  {
   "cell_type": "code",
   "execution_count": null,
   "outputs": [],
   "source": [
    "df.loc[[0,1],'email']"
   ],
   "metadata": {
    "collapsed": false
   }
  },
  {
   "cell_type": "code",
   "execution_count": null,
   "outputs": [],
   "source": [
    "df.loc[[0,1],['email','first']]"
   ],
   "metadata": {
    "collapsed": false
   }
  },
  {
   "cell_type": "code",
   "execution_count": 10,
   "outputs": [
    {
     "data": {
      "text/plain": "(88883, 85)"
     },
     "execution_count": 10,
     "metadata": {},
     "output_type": "execute_result"
    }
   ],
   "source": [
    "# EDA\n",
    "df.shape"
   ],
   "metadata": {
    "collapsed": false,
    "ExecuteTime": {
     "end_time": "2023-07-08T03:31:52.132801700Z",
     "start_time": "2023-07-08T03:31:52.106110600Z"
    }
   }
  },
  {
   "cell_type": "code",
   "execution_count": 11,
   "outputs": [
    {
     "data": {
      "text/plain": "Index(['Respondent', 'MainBranch', 'Hobbyist', 'OpenSourcer', 'OpenSource',\n       'Employment', 'Country', 'Student', 'EdLevel', 'UndergradMajor',\n       'EduOther', 'OrgSize', 'DevType', 'YearsCode', 'Age1stCode',\n       'YearsCodePro', 'CareerSat', 'JobSat', 'MgrIdiot', 'MgrMoney',\n       'MgrWant', 'JobSeek', 'LastHireDate', 'LastInt', 'FizzBuzz',\n       'JobFactors', 'ResumeUpdate', 'CurrencySymbol', 'CurrencyDesc',\n       'CompTotal', 'CompFreq', 'ConvertedComp', 'WorkWeekHrs', 'WorkPlan',\n       'WorkChallenge', 'WorkRemote', 'WorkLoc', 'ImpSyn', 'CodeRev',\n       'CodeRevHrs', 'UnitTests', 'PurchaseHow', 'PurchaseWhat',\n       'LanguageWorkedWith', 'LanguageDesireNextYear', 'DatabaseWorkedWith',\n       'DatabaseDesireNextYear', 'PlatformWorkedWith',\n       'PlatformDesireNextYear', 'WebFrameWorkedWith',\n       'WebFrameDesireNextYear', 'MiscTechWorkedWith',\n       'MiscTechDesireNextYear', 'DevEnviron', 'OpSys', 'Containers',\n       'BlockchainOrg', 'BlockchainIs', 'BetterLife', 'ITperson', 'OffOn',\n       'SocialMedia', 'Extraversion', 'ScreenName', 'SOVisit1st',\n       'SOVisitFreq', 'SOVisitTo', 'SOFindAnswer', 'SOTimeSaved',\n       'SOHowMuchTime', 'SOAccount', 'SOPartFreq', 'SOJobs', 'EntTeams',\n       'SOComm', 'WelcomeChange', 'SONewContent', 'Age', 'Gender', 'Trans',\n       'Sexuality', 'Ethnicity', 'Dependents', 'SurveyLength', 'SurveyEase'],\n      dtype='object')"
     },
     "execution_count": 11,
     "metadata": {},
     "output_type": "execute_result"
    }
   ],
   "source": [
    "df.columns"
   ],
   "metadata": {
    "collapsed": false,
    "ExecuteTime": {
     "end_time": "2023-07-08T03:31:52.867277500Z",
     "start_time": "2023-07-08T03:31:52.819659400Z"
    }
   }
  },
  {
   "cell_type": "code",
   "execution_count": 12,
   "outputs": [
    {
     "data": {
      "text/plain": "Yes    71257\nNo     17626\nName: Hobbyist, dtype: int64"
     },
     "execution_count": 12,
     "metadata": {},
     "output_type": "execute_result"
    }
   ],
   "source": [
    "df['Hobbyist'].value_counts()"
   ],
   "metadata": {
    "collapsed": false,
    "ExecuteTime": {
     "end_time": "2023-07-08T03:31:53.499696800Z",
     "start_time": "2023-07-08T03:31:53.463170100Z"
    }
   }
  },
  {
   "cell_type": "code",
   "execution_count": 13,
   "outputs": [
    {
     "data": {
      "text/plain": "Respondent                                                                1\nMainBranch                           I am a student who is learning to code\nHobbyist                                                                Yes\nOpenSourcer                                                           Never\nOpenSource                The quality of OSS and closed source software ...\nEmployment                           Not employed, and not looking for work\nCountry                                                      United Kingdom\nStudent                                                                  No\nEdLevel                                           Primary/elementary school\nUndergradMajor                                                          NaN\nEduOther                  Taught yourself a new language, framework, or ...\nOrgSize                                                                 NaN\nDevType                                                                 NaN\nYearsCode                                                                 4\nAge1stCode                                                               10\nYearsCodePro                                                            NaN\nCareerSat                                                               NaN\nJobSat                                                                  NaN\nMgrIdiot                                                                NaN\nMgrMoney                                                                NaN\nMgrWant                                                                 NaN\nJobSeek                                                                 NaN\nLastHireDate                                                            NaN\nLastInt                                                                 NaN\nFizzBuzz                                                                NaN\nJobFactors                                                              NaN\nResumeUpdate                                                            NaN\nCurrencySymbol                                                          NaN\nCurrencyDesc                                                            NaN\nCompTotal                                                               NaN\nCompFreq                                                                NaN\nConvertedComp                                                           NaN\nWorkWeekHrs                                                             NaN\nWorkPlan                                                                NaN\nWorkChallenge                                                           NaN\nWorkRemote                                                              NaN\nWorkLoc                                                                 NaN\nImpSyn                                                                  NaN\nCodeRev                                                                 NaN\nCodeRevHrs                                                              NaN\nUnitTests                                                               NaN\nPurchaseHow                                                             NaN\nPurchaseWhat                                                            NaN\nLanguageWorkedWith                          HTML/CSS;Java;JavaScript;Python\nLanguageDesireNextYear      C;C++;C#;Go;HTML/CSS;Java;JavaScript;Python;SQL\nDatabaseWorkedWith                                                   SQLite\nDatabaseDesireNextYear                                                MySQL\nPlatformWorkedWith                                            MacOS;Windows\nPlatformDesireNextYear                              Android;Arduino;Windows\nWebFrameWorkedWith                                             Django;Flask\nWebFrameDesireNextYear                                         Flask;jQuery\nMiscTechWorkedWith                                                  Node.js\nMiscTechDesireNextYear                                              Node.js\nDevEnviron                                       IntelliJ;Notepad++;PyCharm\nOpSys                                                               Windows\nContainers                                          I do not use containers\nBlockchainOrg                                                           NaN\nBlockchainIs                                                            NaN\nBetterLife                                                              Yes\nITperson                           Fortunately, someone else has that title\nOffOn                                                                   Yes\nSocialMedia                                                         Twitter\nExtraversion                                                         Online\nScreenName                                                         Username\nSOVisit1st                                                             2017\nSOVisitFreq                                 A few times per month or weekly\nSOVisitTo                 Find answers to specific questions;Learn how t...\nSOFindAnswer                                             3-5 times per week\nSOTimeSaved                                  Stack Overflow was much faster\nSOHowMuchTime                                                 31-60 minutes\nSOAccount                                                                No\nSOPartFreq                                                              NaN\nSOJobs                    No, I didn't know that Stack Overflow had a jo...\nEntTeams                                No, and I don't know what those are\nSOComm                                                              Neutral\nWelcomeChange                       Just as welcome now as I felt last year\nSONewContent              Tech articles written by other developers;Indu...\nAge                                                                    14.0\nGender                                                                  Man\nTrans                                                                    No\nSexuality                                           Straight / Heterosexual\nEthnicity                                                               NaN\nDependents                                                               No\nSurveyLength                                          Appropriate in length\nSurveyEase                                       Neither easy nor difficult\nName: 0, dtype: object"
     },
     "execution_count": 13,
     "metadata": {},
     "output_type": "execute_result"
    }
   ],
   "source": [
    "df.loc[0]"
   ],
   "metadata": {
    "collapsed": false,
    "ExecuteTime": {
     "end_time": "2023-07-08T03:36:09.997783400Z",
     "start_time": "2023-07-08T03:36:09.938365200Z"
    }
   }
  },
  {
   "cell_type": "code",
   "execution_count": 14,
   "outputs": [
    {
     "data": {
      "text/plain": "'Yes'"
     },
     "execution_count": 14,
     "metadata": {},
     "output_type": "execute_result"
    }
   ],
   "source": [
    "df.loc[0,'Hobbyist']"
   ],
   "metadata": {
    "collapsed": false,
    "ExecuteTime": {
     "end_time": "2023-07-08T03:36:40.651696400Z",
     "start_time": "2023-07-08T03:36:40.645334Z"
    }
   }
  },
  {
   "cell_type": "code",
   "execution_count": 15,
   "outputs": [
    {
     "data": {
      "text/plain": "0    Yes\n1     No\n2    Yes\nName: Hobbyist, dtype: object"
     },
     "execution_count": 15,
     "metadata": {},
     "output_type": "execute_result"
    }
   ],
   "source": [
    "df.loc[[0,1,2],'Hobbyist']"
   ],
   "metadata": {
    "collapsed": false,
    "ExecuteTime": {
     "end_time": "2023-07-08T03:36:53.588698100Z",
     "start_time": "2023-07-08T03:36:53.542253800Z"
    }
   }
  },
  {
   "cell_type": "code",
   "execution_count": 17,
   "outputs": [
    {
     "data": {
      "text/plain": "0    Yes\n1     No\n2    Yes\n3     No\n4    Yes\n5    Yes\n6     No\n7    Yes\n8    Yes\n9    Yes\nName: Hobbyist, dtype: object"
     },
     "execution_count": 17,
     "metadata": {},
     "output_type": "execute_result"
    }
   ],
   "source": [
    "df.loc[0:9,'Hobbyist']"
   ],
   "metadata": {
    "collapsed": false,
    "ExecuteTime": {
     "end_time": "2023-07-08T03:37:45.838554600Z",
     "start_time": "2023-07-08T03:37:45.823098900Z"
    }
   }
  },
  {
   "cell_type": "code",
   "execution_count": 18,
   "outputs": [
    {
     "data": {
      "text/plain": "  Hobbyist                 OpenSourcer  \\\n0      Yes                       Never   \n1       No     Less than once per year   \n2      Yes                       Never   \n3       No                       Never   \n4      Yes  Once a month or more often   \n5      Yes                       Never   \n6       No                       Never   \n7      Yes     Less than once per year   \n8      Yes  Once a month or more often   \n9      Yes  Once a month or more often   \n\n                                          OpenSource  \\\n0  The quality of OSS and closed source software ...   \n1  The quality of OSS and closed source software ...   \n2  The quality of OSS and closed source software ...   \n3  The quality of OSS and closed source software ...   \n4  OSS is, on average, of HIGHER quality than pro...   \n5  The quality of OSS and closed source software ...   \n6  The quality of OSS and closed source software ...   \n7  OSS is, on average, of HIGHER quality than pro...   \n8  The quality of OSS and closed source software ...   \n9  OSS is, on average, of HIGHER quality than pro...   \n\n                                          Employment  \n0             Not employed, and not looking for work  \n1                 Not employed, but looking for work  \n2                                 Employed full-time  \n3                                 Employed full-time  \n4                                 Employed full-time  \n5                                 Employed full-time  \n6  Independent contractor, freelancer, or self-em...  \n7                 Not employed, but looking for work  \n8                                 Employed full-time  \n9                                 Employed full-time  ",
      "text/html": "<div>\n<style scoped>\n    .dataframe tbody tr th:only-of-type {\n        vertical-align: middle;\n    }\n\n    .dataframe tbody tr th {\n        vertical-align: top;\n    }\n\n    .dataframe thead th {\n        text-align: right;\n    }\n</style>\n<table border=\"1\" class=\"dataframe\">\n  <thead>\n    <tr style=\"text-align: right;\">\n      <th></th>\n      <th>Hobbyist</th>\n      <th>OpenSourcer</th>\n      <th>OpenSource</th>\n      <th>Employment</th>\n    </tr>\n  </thead>\n  <tbody>\n    <tr>\n      <th>0</th>\n      <td>Yes</td>\n      <td>Never</td>\n      <td>The quality of OSS and closed source software ...</td>\n      <td>Not employed, and not looking for work</td>\n    </tr>\n    <tr>\n      <th>1</th>\n      <td>No</td>\n      <td>Less than once per year</td>\n      <td>The quality of OSS and closed source software ...</td>\n      <td>Not employed, but looking for work</td>\n    </tr>\n    <tr>\n      <th>2</th>\n      <td>Yes</td>\n      <td>Never</td>\n      <td>The quality of OSS and closed source software ...</td>\n      <td>Employed full-time</td>\n    </tr>\n    <tr>\n      <th>3</th>\n      <td>No</td>\n      <td>Never</td>\n      <td>The quality of OSS and closed source software ...</td>\n      <td>Employed full-time</td>\n    </tr>\n    <tr>\n      <th>4</th>\n      <td>Yes</td>\n      <td>Once a month or more often</td>\n      <td>OSS is, on average, of HIGHER quality than pro...</td>\n      <td>Employed full-time</td>\n    </tr>\n    <tr>\n      <th>5</th>\n      <td>Yes</td>\n      <td>Never</td>\n      <td>The quality of OSS and closed source software ...</td>\n      <td>Employed full-time</td>\n    </tr>\n    <tr>\n      <th>6</th>\n      <td>No</td>\n      <td>Never</td>\n      <td>The quality of OSS and closed source software ...</td>\n      <td>Independent contractor, freelancer, or self-em...</td>\n    </tr>\n    <tr>\n      <th>7</th>\n      <td>Yes</td>\n      <td>Less than once per year</td>\n      <td>OSS is, on average, of HIGHER quality than pro...</td>\n      <td>Not employed, but looking for work</td>\n    </tr>\n    <tr>\n      <th>8</th>\n      <td>Yes</td>\n      <td>Once a month or more often</td>\n      <td>The quality of OSS and closed source software ...</td>\n      <td>Employed full-time</td>\n    </tr>\n    <tr>\n      <th>9</th>\n      <td>Yes</td>\n      <td>Once a month or more often</td>\n      <td>OSS is, on average, of HIGHER quality than pro...</td>\n      <td>Employed full-time</td>\n    </tr>\n  </tbody>\n</table>\n</div>"
     },
     "execution_count": 18,
     "metadata": {},
     "output_type": "execute_result"
    }
   ],
   "source": [
    "df.loc[0:9,'Hobbyist':'Employment']"
   ],
   "metadata": {
    "collapsed": false,
    "ExecuteTime": {
     "end_time": "2023-07-08T03:38:43.717219900Z",
     "start_time": "2023-07-08T03:38:43.681138Z"
    }
   }
  },
  {
   "cell_type": "code",
   "execution_count": null,
   "outputs": [],
   "source": [],
   "metadata": {
    "collapsed": false
   }
  }
 ],
 "metadata": {
  "kernelspec": {
   "display_name": "Python 3",
   "language": "python",
   "name": "python3"
  },
  "language_info": {
   "codemirror_mode": {
    "name": "ipython",
    "version": 2
   },
   "file_extension": ".py",
   "mimetype": "text/x-python",
   "name": "python",
   "nbconvert_exporter": "python",
   "pygments_lexer": "ipython2",
   "version": "2.7.6"
  }
 },
 "nbformat": 4,
 "nbformat_minor": 0
}
