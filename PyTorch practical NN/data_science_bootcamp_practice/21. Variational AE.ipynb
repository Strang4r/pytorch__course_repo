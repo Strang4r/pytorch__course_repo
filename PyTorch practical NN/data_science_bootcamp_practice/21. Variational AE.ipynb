{
 "cells": [
  {
   "cell_type": "code",
   "execution_count": 1,
   "metadata": {
    "collapsed": true,
    "ExecuteTime": {
     "end_time": "2023-07-02T04:10:29.350885200Z",
     "start_time": "2023-07-02T04:10:22.289421700Z"
    }
   },
   "outputs": [],
   "source": [
    "import os\n",
    "import torch\n",
    "import torch.nn as nn\n",
    "import torch.nn.functional as F\n",
    "import torchvision\n",
    "from torchvision import transforms as tf\n",
    "from torchvision.utils import save_image"
   ]
  },
  {
   "cell_type": "code",
   "execution_count": 6,
   "outputs": [],
   "source": [
    "# Define hyperparameters\n",
    "image_size=784\n",
    "hidden_dim = 400\n",
    "latent_dim=20\n",
    "batch_size=128\n",
    "epochs=10\n",
    "\n",
    "\n",
    "device = torch.device('cuda' if torch.cuda.is_available() else 'cpu')\n",
    "\n",
    "# MNIST Dataset\n",
    "train_dataset=torchvision.datasets.MNIST(root='../data',\n",
    "                                         train=True,\n",
    "                                         transform=tf.ToTensor(),\n",
    "                                         download=True)\n",
    "train_loader=torch.utils.data.DataLoader(dataset=train_dataset,\n",
    "                                         batch_size=batch_size,shuffle=True)\n",
    "\n",
    "test_dataset=torchvision.datasets.MNIST(root='../data',\n",
    "                                         train=False,\n",
    "                                         transform=tf.ToTensor(),)\n",
    "test_loader = torch.utils.data.DataLoader(dataset=test_dataset,batch_size=batch_size,shuffle=True)\n",
    "\n",
    "#Create directory to save the reconstructed and sampled images (if directory not present)\n",
    "sample_dir= 'results'\n",
    "if not os.path.exists(sample_dir):\n",
    "    os.makedirs(sample_dir)"
   ],
   "metadata": {
    "collapsed": false,
    "ExecuteTime": {
     "end_time": "2023-07-02T04:14:33.843105400Z",
     "start_time": "2023-07-02T04:14:33.727794200Z"
    }
   }
  },
  {
   "cell_type": "markdown",
   "source": [
    "![vae](https://user-images.githubusercontent.com/30661597/78418103-a2047200-766b-11ea-8205-c7e5712715f4.png)"
   ],
   "metadata": {
    "collapsed": false
   }
  },
  {
   "cell_type": "code",
   "execution_count": 7,
   "outputs": [],
   "source": [
    "# VAE model\n",
    "class VAE(nn.Module):\n",
    "    def __init__(self):\n",
    "        super(VAE, self).__init__()\n",
    "\n",
    "        self.fc1 = nn.Linear(image_size, hidden_dim)\n",
    "        self.fc2_mean = nn.Linear(hidden_dim, latent_dim)\n",
    "        self.fc2_logvar = nn.Linear(hidden_dim, latent_dim)\n",
    "        self.fc3 = nn.Linear(latent_dim, hidden_dim)\n",
    "        self.fc4 = nn.Linear(hidden_dim, image_size)\n",
    "\n",
    "    def encode(self, x):\n",
    "        h = F.relu(self.fc1(x))\n",
    "        mu = self.fc2_mean(h)\n",
    "        log_var = self.fc2_logvar(h)\n",
    "        return mu, log_var\n",
    "\n",
    "    def reparameterize(self, mu, logvar):\n",
    "        std = torch.exp(logvar/2)\n",
    "        eps = torch.randn_like(std)\n",
    "        return mu + eps * std\n",
    "\n",
    "    def decode(self, z):\n",
    "        h = F.relu(self.fc3(z))\n",
    "        out = torch.sigmoid(self.fc4(h))\n",
    "        return out\n",
    "\n",
    "    def forward(self, x):\n",
    "        # x: (batch_size, 1, 28,28) --> (batch_size, 784)\n",
    "        mu, logvar = self.encode(x.view(-1, image_size))\n",
    "        z = self.reparameterize(mu, logvar)\n",
    "        reconstructed = self.decode(z)\n",
    "        return reconstructed, mu, logvar\n",
    "\n",
    "# Define model and optimizer\n",
    "model = VAE().to(device)\n",
    "optimizer = torch.optim.Adam(model.parameters(), lr=1e-3)"
   ],
   "metadata": {
    "collapsed": false,
    "ExecuteTime": {
     "end_time": "2023-07-02T04:14:35.185390900Z",
     "start_time": "2023-07-02T04:14:35.157674600Z"
    }
   }
  },
  {
   "cell_type": "markdown",
   "source": [
    "### $Loss = -E[\\log P(X | z)]+D_{K L}[N(\\mu(X), \\Sigma(X)) \\| N(0,1)]$"
   ],
   "metadata": {
    "collapsed": false
   }
  },
  {
   "cell_type": "markdown",
   "source": [
    "#### $D_{K L}[N(\\mu(X), \\Sigma(X)) \\| N(0,1)]=\\frac{1}{2} \\sum_{k}\\left(\\exp (\\Sigma(X))+\\mu^{2}(X)-1-\\Sigma(X)\\right)$"
   ],
   "metadata": {
    "collapsed": false
   }
  },
  {
   "cell_type": "code",
   "execution_count": 10,
   "outputs": [],
   "source": [
    "# Define loss\n",
    "def loss_function(reconstructed_image,original_image,mu,logvar):\n",
    "    bce=F.binary_cross_entropy(reconstructed_image,original_image.view(-1,784),reduction='sum')\n",
    "    kld=0.5*torch.sum(logvar.exp()+mu.pow(2) -1 - logvar)\n",
    "    #####################################################\n",
    "    # logvar, exp: (batch_size,20)\n",
    "    # kld = 0.5 * torch.sum( logvar.exp() + mu.pow(2) -1 -logvar,1) # (batch_-size)\n",
    "    # kld_sum = torch.sum(kld)\n",
    "    return bce + kld\n",
    "\n",
    "# train function\n",
    "def train(epoch):\n",
    "    model.train()\n",
    "    train_loss=0\n",
    "    for i, (images,_) in enumerate(train_loader):\n",
    "        images = images.to(device)\n",
    "        reconstructed,mu,logvar=model(images)\n",
    "        loss = loss_function(reconstructed,images,mu,logvar)\n",
    "        optimizer.zero_grad()\n",
    "        loss.backward()\n",
    "        train_loss += loss.item()\n",
    "        optimizer.step()\n",
    "\n",
    "        if i % 100 ==0:\n",
    "            print('Train Epoch {}  [Batch: {}/{}]\\tloss: {:3f}'.format(epoch,i,len(train_loader),loss.item()/len(images)))\n",
    "    print('=====> Epoch {}/{}, Average Loss: {:.3f}'.format(epoch,epochs,train_loss/len(train_loader.dataset)))\n",
    "\n",
    "#Test funciton\n",
    "def test(epoch):\n",
    "    model.eval()\n",
    "    test_loss=0\n",
    "    with torch.no_grad():\n",
    "        for batch_idx, (images,_) in enumerate(test_loader):\n",
    "            images = images.to(device)\n",
    "            reconstructed,mu,logvar = model(images)\n",
    "            test_loss += loss_function(reconstructed,images,mu,logvar).item()\n",
    "            if batch_idx ==0:\n",
    "                comparison = torch.cat([images[:5],reconstructed.view(batch_size,1,28,28)[:5]])\n",
    "                save_image(comparison.cpu(),'results/reconstruction_'+str(epoch)+'.png',nrow=5)\n",
    "\n",
    "    print('=====> Average Test Loss: {:.3f}'.format(test_loss/len(test_loader.dataset)))"
   ],
   "metadata": {
    "collapsed": false,
    "ExecuteTime": {
     "end_time": "2023-07-02T04:18:16.045922800Z",
     "start_time": "2023-07-02T04:18:15.999841Z"
    }
   }
  },
  {
   "cell_type": "code",
   "execution_count": 9,
   "outputs": [
    {
     "name": "stdout",
     "output_type": "stream",
     "text": [
      "Train Epoch 1  [Batch0/469]\tloss: 548.405579\n",
      "Train Epoch 1  [Batch100/469]\tloss: 187.809143\n",
      "Train Epoch 1  [Batch200/469]\tloss: 150.541779\n",
      "Train Epoch 1  [Batch300/469]\tloss: 138.330200\n",
      "Train Epoch 1  [Batch400/469]\tloss: 130.807556\n",
      "=====> Epoch 1, Average Loss: 165.204\n",
      "=====> Average Test Loss: 128.362\n",
      "Train Epoch 2  [Batch0/469]\tloss: 126.273087\n",
      "Train Epoch 2  [Batch100/469]\tloss: 124.899948\n",
      "Train Epoch 2  [Batch200/469]\tloss: 118.156609\n",
      "Train Epoch 2  [Batch300/469]\tloss: 119.573822\n",
      "Train Epoch 2  [Batch400/469]\tloss: 119.003311\n",
      "=====> Epoch 2, Average Loss: 122.165\n",
      "=====> Average Test Loss: 116.622\n",
      "Train Epoch 3  [Batch0/469]\tloss: 119.288666\n",
      "Train Epoch 3  [Batch100/469]\tloss: 113.637123\n",
      "Train Epoch 3  [Batch200/469]\tloss: 115.232651\n",
      "Train Epoch 3  [Batch300/469]\tloss: 114.510597\n",
      "Train Epoch 3  [Batch400/469]\tloss: 111.098389\n",
      "=====> Epoch 3, Average Loss: 114.907\n",
      "=====> Average Test Loss: 112.358\n",
      "Train Epoch 4  [Batch0/469]\tloss: 114.943321\n",
      "Train Epoch 4  [Batch100/469]\tloss: 115.156723\n",
      "Train Epoch 4  [Batch200/469]\tloss: 114.803131\n",
      "Train Epoch 4  [Batch300/469]\tloss: 106.919540\n",
      "Train Epoch 4  [Batch400/469]\tloss: 112.668381\n",
      "=====> Epoch 4, Average Loss: 111.809\n",
      "=====> Average Test Loss: 110.194\n",
      "Train Epoch 5  [Batch0/469]\tloss: 113.141602\n",
      "Train Epoch 5  [Batch100/469]\tloss: 111.400841\n",
      "Train Epoch 5  [Batch200/469]\tloss: 108.649200\n",
      "Train Epoch 5  [Batch300/469]\tloss: 113.457497\n",
      "Train Epoch 5  [Batch400/469]\tloss: 111.078850\n",
      "=====> Epoch 5, Average Loss: 109.969\n",
      "=====> Average Test Loss: 108.786\n",
      "Train Epoch 6  [Batch0/469]\tloss: 109.946259\n",
      "Train Epoch 6  [Batch100/469]\tloss: 110.140587\n",
      "Train Epoch 6  [Batch200/469]\tloss: 108.925064\n",
      "Train Epoch 6  [Batch300/469]\tloss: 106.693565\n",
      "Train Epoch 6  [Batch400/469]\tloss: 108.333527\n",
      "=====> Epoch 6, Average Loss: 108.808\n",
      "=====> Average Test Loss: 107.600\n",
      "Train Epoch 7  [Batch0/469]\tloss: 108.517357\n",
      "Train Epoch 7  [Batch100/469]\tloss: 106.183113\n",
      "Train Epoch 7  [Batch200/469]\tloss: 110.197021\n",
      "Train Epoch 7  [Batch300/469]\tloss: 107.437714\n",
      "Train Epoch 7  [Batch400/469]\tloss: 108.168770\n",
      "=====> Epoch 7, Average Loss: 107.960\n",
      "=====> Average Test Loss: 107.054\n",
      "Train Epoch 8  [Batch0/469]\tloss: 102.669289\n",
      "Train Epoch 8  [Batch100/469]\tloss: 109.371956\n",
      "Train Epoch 8  [Batch200/469]\tloss: 105.149628\n",
      "Train Epoch 8  [Batch300/469]\tloss: 108.641647\n",
      "Train Epoch 8  [Batch400/469]\tloss: 108.688347\n",
      "=====> Epoch 8, Average Loss: 107.256\n",
      "=====> Average Test Loss: 106.649\n",
      "Train Epoch 9  [Batch0/469]\tloss: 103.941422\n",
      "Train Epoch 9  [Batch100/469]\tloss: 110.490715\n",
      "Train Epoch 9  [Batch200/469]\tloss: 105.952995\n",
      "Train Epoch 9  [Batch300/469]\tloss: 107.957253\n",
      "Train Epoch 9  [Batch400/469]\tloss: 104.608780\n",
      "=====> Epoch 9, Average Loss: 106.768\n",
      "=====> Average Test Loss: 105.979\n",
      "Train Epoch 10  [Batch0/469]\tloss: 106.533524\n",
      "Train Epoch 10  [Batch100/469]\tloss: 103.325638\n",
      "Train Epoch 10  [Batch200/469]\tloss: 106.824654\n",
      "Train Epoch 10  [Batch300/469]\tloss: 107.651581\n",
      "Train Epoch 10  [Batch400/469]\tloss: 103.227089\n",
      "=====> Epoch 10, Average Loss: 106.369\n",
      "=====> Average Test Loss: 105.624\n"
     ]
    }
   ],
   "source": [
    "# main function\n",
    "for epoch in range(1,epochs+1):\n",
    "    train(epoch)\n",
    "    test(epoch)\n",
    "    with torch.no_grad():\n",
    "        # Get rid of the encoder and sample z from the fuassian distribution and feed it to the decoder to generate samples\n",
    "        sample=torch.randn(64,20).to(device)\n",
    "        generated = model.decode(sample).cpu()\n",
    "        save_image(generated.view(64,1,28,28),'results/sample_'+str(epoch)+'.png')"
   ],
   "metadata": {
    "collapsed": false,
    "ExecuteTime": {
     "end_time": "2023-07-02T04:18:15.994836100Z",
     "start_time": "2023-07-02T04:14:37.560074200Z"
    }
   }
  },
  {
   "cell_type": "code",
   "execution_count": null,
   "outputs": [],
   "source": [],
   "metadata": {
    "collapsed": false
   }
  }
 ],
 "metadata": {
  "kernelspec": {
   "display_name": "Python 3",
   "language": "python",
   "name": "python3"
  },
  "language_info": {
   "codemirror_mode": {
    "name": "ipython",
    "version": 2
   },
   "file_extension": ".py",
   "mimetype": "text/x-python",
   "name": "python",
   "nbconvert_exporter": "python",
   "pygments_lexer": "ipython2",
   "version": "2.7.6"
  }
 },
 "nbformat": 4,
 "nbformat_minor": 0
}
