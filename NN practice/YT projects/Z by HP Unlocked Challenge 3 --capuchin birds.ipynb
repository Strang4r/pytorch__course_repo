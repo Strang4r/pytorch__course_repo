{
 "cells": [
  {
   "cell_type": "code",
   "execution_count": 3,
   "outputs": [
    {
     "name": "stdout",
     "output_type": "stream",
     "text": [
      "Requirement already satisfied: tensorflow-io in c:\\users\\mi\\.conda\\envs\\conda_default_env_backup\\lib\\site-packages (0.31.0)\n",
      "Requirement already satisfied: tensorflow-io-gcs-filesystem==0.31.0 in c:\\users\\mi\\appdata\\roaming\\python\\python310\\site-packages (from tensorflow-io) (0.31.0)\n"
     ]
    }
   ],
   "source": [
    "!pip install tensorflow-io"
   ],
   "metadata": {
    "collapsed": false,
    "ExecuteTime": {
     "end_time": "2023-06-01T12:49:10.413119500Z",
     "start_time": "2023-06-01T12:49:03.669264600Z"
    }
   }
  },
  {
   "cell_type": "code",
   "execution_count": 2,
   "outputs": [],
   "source": [
    "import os\n",
    "from matplotlib import pyplot as plt\n",
    "import tensorflow as tf\n",
    "import tensorflow_io as tfio"
   ],
   "metadata": {
    "collapsed": false,
    "ExecuteTime": {
     "end_time": "2023-06-02T02:52:28.891133200Z",
     "start_time": "2023-06-02T02:52:22.409369700Z"
    }
   }
  },
  {
   "cell_type": "markdown",
   "source": [
    "# 2. Build Data Loading Function\n",
    "## 2.1 Define Paths to Files"
   ],
   "metadata": {
    "collapsed": false
   }
  },
  {
   "cell_type": "code",
   "execution_count": 3,
   "outputs": [],
   "source": [
    "CAPUCHIN_FILE= os.path.join('datasets','z_by_hp_challenge_3','Parsed_Capuchinbird_Clips','XC3776-2.wav')\n",
    "NOT_CAPUCHIN_FILE=os.path.join('datasets','z_by_hp_challenge_3','Parsed_Not_Capuchinbird_Clips','afternoon-birds-song-in-forest-2.wav')"
   ],
   "metadata": {
    "collapsed": false,
    "ExecuteTime": {
     "end_time": "2023-06-02T02:52:28.906281200Z",
     "start_time": "2023-06-02T02:52:28.893275300Z"
    }
   }
  },
  {
   "cell_type": "code",
   "execution_count": 4,
   "outputs": [
    {
     "data": {
      "text/plain": "'datasets\\\\z_by_hp_challenge_3\\\\Parsed_Capuchinbird_Clips\\\\XC3776-2.wav'"
     },
     "execution_count": 4,
     "metadata": {},
     "output_type": "execute_result"
    }
   ],
   "source": [
    "CAPUCHIN_FILE"
   ],
   "metadata": {
    "collapsed": false,
    "ExecuteTime": {
     "end_time": "2023-06-02T02:52:33.948040900Z",
     "start_time": "2023-06-02T02:52:33.912339100Z"
    }
   }
  },
  {
   "cell_type": "code",
   "execution_count": null,
   "outputs": [],
   "source": [
    "def load_wav_16k_mono(filename):\n",
    "    # Load encoded wav file\n",
    "    file_contents = tf.io.read_file(filename)\n"
   ],
   "metadata": {
    "collapsed": false
   }
  }
 ],
 "metadata": {
  "kernelspec": {
   "display_name": "Python 3",
   "language": "python",
   "name": "python3"
  },
  "language_info": {
   "codemirror_mode": {
    "name": "ipython",
    "version": 2
   },
   "file_extension": ".py",
   "mimetype": "text/x-python",
   "name": "python",
   "nbconvert_exporter": "python",
   "pygments_lexer": "ipython2",
   "version": "2.7.6"
  }
 },
 "nbformat": 4,
 "nbformat_minor": 0
}
