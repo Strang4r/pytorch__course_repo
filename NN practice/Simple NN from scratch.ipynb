{
 "cells": [
  {
   "cell_type": "code",
   "execution_count": 4,
   "id": "49c2bef9",
   "metadata": {},
   "outputs": [
    {
     "name": "stdout",
     "output_type": "stream",
     "text": [
      "[4.8, 1.17, 2.385]\n"
     ]
    }
   ],
   "source": [
    "inputs=[1,2,3,2.5]\n",
    "weights1=[0.2,0.8,-0.5,1.0] # единственный нейрон\n",
    "weights2=[0.5,-0.93,0.26,-0.5]\n",
    "weights3=[-0.26,-0.27,0.17,0.87]\n",
    "\n",
    "bias1=2 # Bias должен быть для каждого нейрона\n",
    "bias2=3\n",
    "bias3=0.5\n",
    "\n",
    "output=[inputs[0]*weights1[0]+inputs[1]*weights1[1]+inputs[2]*weights1[2]+inputs[3]*weights1[3]+bias1, \n",
    "       inputs[0]*weights2[0]+inputs[1]*weights2[1]+inputs[2]*weights2[2]+inputs[3]*weights2[3]+bias2,\n",
    "       inputs[0]*weights3[0]+inputs[1]*weights3[1]+inputs[2]*weights3[2]+inputs[3]*weights3[3]+bias3]\n",
    "print(output)\n",
    "# if we want to change what our NN outputs we can only change weights and biases"
   ]
  },
  {
   "cell_type": "code",
   "execution_count": 5,
   "id": "9567e6cb",
   "metadata": {},
   "outputs": [
    {
     "name": "stdout",
     "output_type": "stream",
     "text": [
      "-0.35\n",
      "0.19999999999999996\n"
     ]
    }
   ],
   "source": [
    "inputs = [1,2,3,2.5]\n",
    "weights = [[0.2,0.8,-0.5,1.0],[0.5,-0.93,0.26,-0.5],[-0.26,-0.27,0.17,0.87]]\n",
    "\n",
    "biases = [2,3,0.5] # Bias должен быть для каждого нейрона\n",
    "\n",
    "some_value = -0.5\n",
    "weight = 0.7\n",
    "bias = 0.7\n",
    "\n",
    "print(some_value*weight)\n",
    "print(some_value+bias)"
   ]
  },
  {
   "cell_type": "code",
   "execution_count": 7,
   "id": "386cc15b",
   "metadata": {},
   "outputs": [
    {
     "name": "stdout",
     "output_type": "stream",
     "text": [
      "[4.8   1.17  2.385]\n"
     ]
    }
   ],
   "source": [
    "import numpy as np\n",
    "inputs = [1,2,3,2.5]\n",
    "weights = [[0.2,0.8,-0.5,1.0],[0.5,-0.93,0.26,-0.5],[-0.26,-0.27,0.17,0.87]]\n",
    "\n",
    "biases = [2,3,0.5] # Bias должен быть для каждого нейрона\n",
    "\n",
    "out=np.dot(weights,inputs)+biases # in .dot we should pass first array with biggest dim or we get an error\n",
    "print(out)"
   ]
  },
  {
   "cell_type": "code",
   "execution_count": null,
   "id": "6633ca72",
   "metadata": {},
   "outputs": [],
   "source": [
    "l=[1,5,6,2] # shape=4 -- it is a 1D array,Vector\n",
    "lol=[[1,5,6,2],\n",
    "     [3,2,1,3]] # shape = 2,4 -- 2D Array, Matrix\n",
    "lolol=[[[1,5,6,2], # shape (3,2,4) -- 3D array\n",
    "     [3,2,1,3]],\n",
    "    [[1,5,6,2],\n",
    "     [3,2,1,3]],\n",
    "    [[1,5,6,2],\n",
    "     [3,2,1,3]]] \n",
    "lololol=[[[[1,5,6,2], # shape (3,3,2,4) -- 4D array or Tensor\n",
    "     [3,2,1,3]],\n",
    "    [[1,5,6,2],\n",
    "     [3,2,1,3]],\n",
    "    [[1,5,6,2],\n",
    "     [3,2,1,3]]],\n",
    "        [[[1,5,6,2], \n",
    "     [3,2,1,3]],\n",
    "    [[1,5,6,2],\n",
    "     [3,2,1,3]],\n",
    "    [[1,5,6,2],\n",
    "     [3,2,1,3]]] ,\n",
    "        [[[1,5,6,2], \n",
    "     [3,2,1,3]],\n",
    "    [[1,5,6,2],\n",
    "     [3,2,1,3]],\n",
    "    [[1,5,6,2],\n",
    "     [3,2,1,3]]] ]"
   ]
  },
  {
   "cell_type": "code",
   "execution_count": 9,
   "id": "4c524d22",
   "metadata": {},
   "outputs": [
    {
     "name": "stdout",
     "output_type": "stream",
     "text": [
      "[[ 4.8    1.21   2.385]\n",
      " [ 8.9   -1.81   0.2  ]\n",
      " [ 1.41   1.051  0.026]]\n"
     ]
    }
   ],
   "source": [
    "# batch is very usefull for calculation speed because we can run calculations in parallel\n",
    "inputs = [[1,2,3,2.5],\n",
    "          [2.0,5.0,-1.0,2.0],\n",
    "          [-1.5,2.7,3.3,-0.8]]\n",
    "weights = [[0.2,0.8,-0.5,1.0],[0.5,-0.91,0.26,-0.5],[-0.26,-0.27,0.17,0.87]]\n",
    "\n",
    "biases = [2,3,0.5]\n",
    "\n",
    "out=np.dot(inputs,np.array(weights).T)+biases \n",
    "print(out)"
   ]
  },
  {
   "cell_type": "code",
   "execution_count": 17,
   "id": "1513dc5d",
   "metadata": {},
   "outputs": [
    {
     "name": "stdout",
     "output_type": "stream",
     "text": [
      "[[ 0.5031  -1.04185 -2.03875]\n",
      " [ 0.2434  -2.7332  -5.7633 ]\n",
      " [-0.99314  1.41254 -0.35655]]\n"
     ]
    }
   ],
   "source": [
    "# doing multy layer NN\n",
    "inputs = [[1,2,3,2.5],\n",
    "          [2.0,5.0,-1.0,2.0],\n",
    "          [-1.5,2.7,3.3,-0.8]]\n",
    "\n",
    "weights = [[0.2,0.8,-0.5,1.0],\n",
    "          [0.5,-0.91,0.26,-0.5],\n",
    "          [-0.26,-0.27,0.17,0.87]]\n",
    "           \n",
    "biases = [2,3,0.5]\n",
    "           \n",
    "weights2 = [[0.1,-0.14,0.5],\n",
    "            [-0.5,0.12,-0.33],\n",
    "            [-0.44,0.73,-0.13]]\n",
    "           \n",
    "biases2=[-1, 2, -0.5]\n",
    "\n",
    "layer1_out=np.dot(inputs,np.array(weights).T)+biases \n",
    "layer2_out=np.dot(layer1_out,np.array(weights2).T)+biases2          \n",
    "print(layer2_out)"
   ]
  },
  {
   "cell_type": "code",
   "execution_count": 20,
   "id": "add8660f",
   "metadata": {},
   "outputs": [
    {
     "name": "stdout",
     "output_type": "stream",
     "text": [
      "[[ 0.148296   -0.08397602]\n",
      " [ 0.14100315 -0.01340469]\n",
      " [ 0.20124979 -0.07290616]]\n"
     ]
    }
   ],
   "source": [
    "# Creating Objects\n",
    "np.random.seed(0)\n",
    "X= [[1,2,3,2.5],\n",
    "          [2.0,5.0,-1.0,2.0],\n",
    "          [-1.5,2.7,3.3,-0.8]]\n",
    "class Layer_Dense:\n",
    "    def __init__(self,n_inputs,n_neurons):\n",
    "        self.weights=0.1*np.random.randn(n_inputs,n_neurons)\n",
    "        self.biases= np.zeros((1,n_neurons))\n",
    "    def forward(self,inputs):\n",
    "        self.output = np.dot(inputs,self.weights)+self.biases\n",
    "        \n",
    "layer1=Layer_Dense(4,5)\n",
    "layer2=Layer_Dense(5,2)\n",
    "layer1.forward(X)\n",
    "# print(layer1.output)\n",
    "\n",
    "layer2.forward(layer1.output)\n",
    "print(layer2.output)"
   ]
  },
  {
   "cell_type": "code",
   "execution_count": 21,
   "id": "ee8116e3",
   "metadata": {},
   "outputs": [
    {
     "name": "stdout",
     "output_type": "stream",
     "text": [
      "Defaulting to user installation because normal site-packages is not writeableNote: you may need to restart the kernel to use updated packages.\n",
      "\n",
      "Collecting nnfs\n",
      "  Downloading nnfs-0.5.1-py3-none-any.whl (9.1 kB)\n",
      "Requirement already satisfied: numpy in c:\\anaconda\\lib\\site-packages (from nnfs) (1.23.5)\n",
      "Installing collected packages: nnfs\n",
      "Successfully installed nnfs-0.5.1\n"
     ]
    },
    {
     "name": "stderr",
     "output_type": "stream",
     "text": [
      "  WARNING: The script nnfs.exe is installed in 'C:\\Users\\Mi\\AppData\\Roaming\\Python\\Python310\\Scripts' which is not on PATH.\n",
      "  Consider adding this directory to PATH or, if you prefer to suppress this warning, use --no-warn-script-location.\n"
     ]
    }
   ],
   "source": [
    "pip install nnfs"
   ]
  },
  {
   "cell_type": "code",
   "execution_count": 23,
   "id": "71d60862",
   "metadata": {},
   "outputs": [
    {
     "name": "stdout",
     "output_type": "stream",
     "text": [
      "[[ 0.00000000e+00  0.00000000e+00  0.00000000e+00  0.00000000e+00\n",
      "   0.00000000e+00]\n",
      " [-8.35815910e-04 -7.90404272e-04 -1.33452227e-03  4.65504505e-04\n",
      "   4.56846210e-05]\n",
      " [-2.39994470e-03  5.93469958e-05 -2.24808278e-03  2.03573116e-04\n",
      "   6.10024377e-04]\n",
      " ...\n",
      " [ 1.13291524e-01 -1.89262271e-01 -2.06855070e-02  8.11079666e-02\n",
      "  -6.71350807e-02]\n",
      " [ 1.34588361e-01 -1.43197834e-01  3.09493970e-02  5.66337556e-02\n",
      "  -6.29687458e-02]\n",
      " [ 1.07817926e-01 -2.00809643e-01 -3.37579325e-02  8.72561932e-02\n",
      "  -6.81458861e-02]]\n",
      "[[0.00000000e+00 0.00000000e+00 0.00000000e+00 0.00000000e+00\n",
      "  0.00000000e+00]\n",
      " [0.00000000e+00 0.00000000e+00 0.00000000e+00 4.65504505e-04\n",
      "  4.56846210e-05]\n",
      " [0.00000000e+00 5.93469958e-05 0.00000000e+00 2.03573116e-04\n",
      "  6.10024377e-04]\n",
      " ...\n",
      " [1.13291524e-01 0.00000000e+00 0.00000000e+00 8.11079666e-02\n",
      "  0.00000000e+00]\n",
      " [1.34588361e-01 0.00000000e+00 3.09493970e-02 5.66337556e-02\n",
      "  0.00000000e+00]\n",
      " [1.07817926e-01 0.00000000e+00 0.00000000e+00 8.72561932e-02\n",
      "  0.00000000e+00]]\n"
     ]
    }
   ],
   "source": [
    "import numpy as np\n",
    "import nnfs\n",
    "from nnfs.datasets import spiral_data\n",
    "\n",
    "nnfs.init()\n",
    "\n",
    "np.random.seed(0)\n",
    "X= [[1,2,3,2.5],\n",
    "      [2.0,5.0,-1.0,2.0],\n",
    "      [-1.5,2.7,3.3,-0.8]]\n",
    "X,y=spiral_data(100,3)\n",
    "\n",
    "class Layer_Dense:\n",
    "    def __init__(self,n_inputs,n_neurons):\n",
    "        self.weights=0.1*np.random.randn(n_inputs,n_neurons)\n",
    "        self.biases= np.zeros((1,n_neurons))\n",
    "    def forward(self,inputs):\n",
    "        self.output = np.dot(inputs,self.weights)+self.biases\n",
    "                \n",
    "        \n",
    "class Activation_ReLU:\n",
    "    def forward(self,inputs):\n",
    "        self.output = np.maximum(0,inputs)\n",
    "\n",
    "layer1=Layer_Dense(2,5)\n",
    "activation1=Activation_ReLU()\n",
    "layer1.forward(X)\n",
    "# print(layer1.output)\n",
    "\n",
    "activation1.forward(layer1.output)\n",
    "print(activation1.output)"
   ]
  },
  {
   "cell_type": "code",
   "execution_count": 26,
   "id": "8487aafe",
   "metadata": {},
   "outputs": [
    {
     "name": "stdout",
     "output_type": "stream",
     "text": [
      "[[8.95282664e-01 2.47083068e-02 8.00090293e-02]\n",
      " [9.99811129e-01 2.23163963e-05 1.66554348e-04]\n",
      " [5.13097164e-01 3.58333899e-01 1.28568936e-01]]\n"
     ]
    }
   ],
   "source": [
    "# Softmax activation\n",
    "nnfs.init()\n",
    "\n",
    "layer_outputs=[[4.8,1.21,2.385],\n",
    "               [8.9,-1.81,0.2],\n",
    "               [1.41,1.051,0.026]]\n",
    "\n",
    "exp_values=np.exp(layer_outputs)\n",
    "norm_values = exp_values/np.sum(exp_values,axis=1,keepdims=True)\n",
    "print(norm_values)"
   ]
  },
  {
   "cell_type": "code",
   "execution_count": 28,
   "id": "e0ae9db1",
   "metadata": {},
   "outputs": [
    {
     "name": "stdout",
     "output_type": "stream",
     "text": [
      "[[0.33333334 0.33333334 0.33333334]\n",
      " [0.33333334 0.33333334 0.33333334]\n",
      " [0.33333376 0.33333224 0.333334  ]\n",
      " [0.33334652 0.33330023 0.33335322]\n",
      " [0.33333334 0.33333334 0.33333334]]\n"
     ]
    }
   ],
   "source": [
    "\n",
    "nnfs.init()\n",
    "\n",
    "np.random.seed(0)\n",
    "X= [[1,2,3,2.5],\n",
    "      [2.0,5.0,-1.0,2.0],\n",
    "      [-1.5,2.7,3.3,-0.8]]\n",
    "X,y=spiral_data(100,3)\n",
    "\n",
    "class Layer_Dense:\n",
    "    def __init__(self,n_inputs,n_neurons):\n",
    "        self.weights=0.1*np.random.randn(n_inputs,n_neurons)\n",
    "        self.biases= np.zeros((1,n_neurons))\n",
    "    def forward(self,inputs):\n",
    "        self.output = np.dot(inputs,self.weights)+self.biases\n",
    "                \n",
    "        \n",
    "class Activation_ReLU:\n",
    "    def forward(self,inputs):\n",
    "        self.output = np.maximum(0,inputs)\n",
    "        \n",
    "class Activation_Softmax:\n",
    "    def forward(self,inputs):\n",
    "        exp_values = np.exp(inputs - np.max(inputs,axis=1,keepdims=True))\n",
    "        probabilities= exp_values / np.sum(exp_values,axis=1,keepdims=True)\n",
    "        self.output=probabilities\n",
    "\n",
    "X, y =spiral_data(samples=100,classes=3)\n",
    "\n",
    "dense1=Layer_Dense(2,3)\n",
    "activation1 = Activation_ReLU()\n",
    "\n",
    "dense2= Layer_Dense(3,3)\n",
    "activation2 = Activation_Softmax()\n",
    "\n",
    "dense1.forward(X)\n",
    "activation1.forward(dense1.output)\n",
    "\n",
    "dense2.forward(activation1.output)\n",
    "activation2.forward(dense2.output)\n",
    "\n",
    "print(activation2.output[:5])"
   ]
  },
  {
   "cell_type": "code",
   "execution_count": null,
   "id": "4940f856",
   "metadata": {},
   "outputs": [],
   "source": []
  }
 ],
 "metadata": {
  "kernelspec": {
   "display_name": "Python 3 (ipykernel)",
   "language": "python",
   "name": "python3"
  },
  "language_info": {
   "codemirror_mode": {
    "name": "ipython",
    "version": 3
   },
   "file_extension": ".py",
   "mimetype": "text/x-python",
   "name": "python",
   "nbconvert_exporter": "python",
   "pygments_lexer": "ipython3",
   "version": "3.10.9"
  }
 },
 "nbformat": 4,
 "nbformat_minor": 5
}
