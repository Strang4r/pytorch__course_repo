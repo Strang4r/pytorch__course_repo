{
 "cells": [
  {
   "cell_type": "code",
   "execution_count": 1,
   "metadata": {
    "collapsed": true,
    "ExecuteTime": {
     "end_time": "2023-05-19T12:49:35.495252700Z",
     "start_time": "2023-05-19T12:49:34.577594600Z"
    }
   },
   "outputs": [],
   "source": [
    "import pandas as pd"
   ]
  },
  {
   "cell_type": "code",
   "execution_count": 2,
   "outputs": [
    {
     "data": {
      "text/plain": "   Yes   No\n0   50  131\n1   12    2",
      "text/html": "<div>\n<style scoped>\n    .dataframe tbody tr th:only-of-type {\n        vertical-align: middle;\n    }\n\n    .dataframe tbody tr th {\n        vertical-align: top;\n    }\n\n    .dataframe thead th {\n        text-align: right;\n    }\n</style>\n<table border=\"1\" class=\"dataframe\">\n  <thead>\n    <tr style=\"text-align: right;\">\n      <th></th>\n      <th>Yes</th>\n      <th>No</th>\n    </tr>\n  </thead>\n  <tbody>\n    <tr>\n      <th>0</th>\n      <td>50</td>\n      <td>131</td>\n    </tr>\n    <tr>\n      <th>1</th>\n      <td>12</td>\n      <td>2</td>\n    </tr>\n  </tbody>\n</table>\n</div>"
     },
     "execution_count": 2,
     "metadata": {},
     "output_type": "execute_result"
    }
   ],
   "source": [
    "y_n_df=pd.DataFrame({'Yes':[50,12],'No':[131,2]})\n",
    "y_n_df"
   ],
   "metadata": {
    "collapsed": false,
    "ExecuteTime": {
     "end_time": "2023-05-19T12:49:35.554751600Z",
     "start_time": "2023-05-19T12:49:35.505042300Z"
    }
   }
  },
  {
   "cell_type": "markdown",
   "source": [],
   "metadata": {
    "collapsed": false
   }
  },
  {
   "cell_type": "code",
   "execution_count": 3,
   "outputs": [
    {
     "data": {
      "text/plain": "            Bob           Sue\n0   I liked it.  Pretty good.\n1  It was awful         Bland",
      "text/html": "<div>\n<style scoped>\n    .dataframe tbody tr th:only-of-type {\n        vertical-align: middle;\n    }\n\n    .dataframe tbody tr th {\n        vertical-align: top;\n    }\n\n    .dataframe thead th {\n        text-align: right;\n    }\n</style>\n<table border=\"1\" class=\"dataframe\">\n  <thead>\n    <tr style=\"text-align: right;\">\n      <th></th>\n      <th>Bob</th>\n      <th>Sue</th>\n    </tr>\n  </thead>\n  <tbody>\n    <tr>\n      <th>0</th>\n      <td>I liked it.</td>\n      <td>Pretty good.</td>\n    </tr>\n    <tr>\n      <th>1</th>\n      <td>It was awful</td>\n      <td>Bland</td>\n    </tr>\n  </tbody>\n</table>\n</div>"
     },
     "execution_count": 3,
     "metadata": {},
     "output_type": "execute_result"
    }
   ],
   "source": [
    "pd.DataFrame({'Bob':['I liked it.','It was awful'],'Sue':['Pretty good.','Bland']})"
   ],
   "metadata": {
    "collapsed": false,
    "ExecuteTime": {
     "end_time": "2023-05-19T12:49:35.556751200Z",
     "start_time": "2023-05-19T12:49:35.532931900Z"
    }
   }
  },
  {
   "cell_type": "code",
   "execution_count": 4,
   "outputs": [
    {
     "data": {
      "text/plain": "                    Bob           Sue\nProduct A   I liked it.  Pretty good.\nProduct B  It was awful         Bland",
      "text/html": "<div>\n<style scoped>\n    .dataframe tbody tr th:only-of-type {\n        vertical-align: middle;\n    }\n\n    .dataframe tbody tr th {\n        vertical-align: top;\n    }\n\n    .dataframe thead th {\n        text-align: right;\n    }\n</style>\n<table border=\"1\" class=\"dataframe\">\n  <thead>\n    <tr style=\"text-align: right;\">\n      <th></th>\n      <th>Bob</th>\n      <th>Sue</th>\n    </tr>\n  </thead>\n  <tbody>\n    <tr>\n      <th>Product A</th>\n      <td>I liked it.</td>\n      <td>Pretty good.</td>\n    </tr>\n    <tr>\n      <th>Product B</th>\n      <td>It was awful</td>\n      <td>Bland</td>\n    </tr>\n  </tbody>\n</table>\n</div>"
     },
     "execution_count": 4,
     "metadata": {},
     "output_type": "execute_result"
    }
   ],
   "source": [
    "# we can set row names for DataFrame by using index\n",
    "pd.DataFrame({'Bob':['I liked it.','It was awful'],'Sue':['Pretty good.','Bland']},index=['Product A','Product B'])"
   ],
   "metadata": {
    "collapsed": false,
    "ExecuteTime": {
     "end_time": "2023-05-19T12:49:35.889756700Z",
     "start_time": "2023-05-19T12:49:35.543209Z"
    }
   }
  },
  {
   "cell_type": "code",
   "execution_count": 5,
   "outputs": [
    {
     "data": {
      "text/plain": "0    1\n1    2\n2    3\n3    4\n4    5\n5    6\ndtype: int64"
     },
     "execution_count": 5,
     "metadata": {},
     "output_type": "execute_result"
    }
   ],
   "source": [
    "# a Series is a sequence of data Values . Series is just a Pretty List\n",
    "pd.Series([1,2,3,4,5,6])"
   ],
   "metadata": {
    "collapsed": false,
    "ExecuteTime": {
     "end_time": "2023-05-19T12:49:36.343934500Z",
     "start_time": "2023-05-19T12:49:35.579723Z"
    }
   }
  },
  {
   "cell_type": "markdown",
   "source": [
    "# Exses and practical task"
   ],
   "metadata": {
    "collapsed": false
   }
  },
  {
   "cell_type": "code",
   "execution_count": 6,
   "outputs": [],
   "source": [
    "# fruits = pd.DataFrame({'Apples':30,'Bananas':21})\n",
    "#or like this\n",
    "fruits = pd.DataFrame([[30, 21]], columns=['Apples', 'Bananas'])\n",
    "fruits"
   ],
   "metadata": {
    "collapsed": false,
    "ExecuteTime": {
     "end_time": "2023-05-19T12:49:36.344981500Z",
     "start_time": "2023-05-19T12:49:35.608897500Z"
    }
   }
  },
  {
   "cell_type": "code",
   "execution_count": 8,
   "outputs": [
    {
     "data": {
      "text/plain": "            Apples  Bananas\n2017 Sales      35       21\n2018 Sales      41       34",
      "text/html": "<div>\n<style scoped>\n    .dataframe tbody tr th:only-of-type {\n        vertical-align: middle;\n    }\n\n    .dataframe tbody tr th {\n        vertical-align: top;\n    }\n\n    .dataframe thead th {\n        text-align: right;\n    }\n</style>\n<table border=\"1\" class=\"dataframe\">\n  <thead>\n    <tr style=\"text-align: right;\">\n      <th></th>\n      <th>Apples</th>\n      <th>Bananas</th>\n    </tr>\n  </thead>\n  <tbody>\n    <tr>\n      <th>2017 Sales</th>\n      <td>35</td>\n      <td>21</td>\n    </tr>\n    <tr>\n      <th>2018 Sales</th>\n      <td>41</td>\n      <td>34</td>\n    </tr>\n  </tbody>\n</table>\n</div>"
     },
     "execution_count": 8,
     "metadata": {},
     "output_type": "execute_result"
    }
   ],
   "source": [
    "fruit_sales = pd.DataFrame([[35, 21], [41, 34]], columns=['Apples', 'Bananas'],\n",
    "                index=['2017 Sales', '2018 Sales'])\n",
    "fruit_sales"
   ],
   "metadata": {
    "collapsed": false,
    "ExecuteTime": {
     "end_time": "2023-05-19T12:50:04.876522800Z",
     "start_time": "2023-05-19T12:50:04.830094100Z"
    }
   }
  },
  {
   "cell_type": "code",
   "execution_count": null,
   "outputs": [],
   "source": [],
   "metadata": {
    "collapsed": false
   }
  },
  {
   "cell_type": "code",
   "execution_count": null,
   "outputs": [],
   "source": [],
   "metadata": {
    "collapsed": false
   }
  }
 ],
 "metadata": {
  "kernelspec": {
   "display_name": "Python 3",
   "language": "python",
   "name": "python3"
  },
  "language_info": {
   "codemirror_mode": {
    "name": "ipython",
    "version": 2
   },
   "file_extension": ".py",
   "mimetype": "text/x-python",
   "name": "python",
   "nbconvert_exporter": "python",
   "pygments_lexer": "ipython2",
   "version": "2.7.6"
  }
 },
 "nbformat": 4,
 "nbformat_minor": 0
}
